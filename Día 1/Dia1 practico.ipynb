{
 "cells": [
  {
   "cell_type": "markdown",
   "metadata": {},
   "source": [
    "## Día 1\n",
    "Referencia : [TEQS](https://github.com/The-Eigensolvers/TEQS)"
   ]
  },
  {
   "cell_type": "code",
   "execution_count": 1,
   "metadata": {},
   "outputs": [],
   "source": [
    "import numpy as np "
   ]
  },
  {
   "cell_type": "markdown",
   "metadata": {},
   "source": [
    "#### Números complejos"
   ]
  },
  {
   "cell_type": "code",
   "execution_count": 28,
   "metadata": {},
   "outputs": [
    {
     "name": "stdout",
     "output_type": "stream",
     "text": [
      "Hola Peter\n",
      "\n",
      "magnitud:  5.0 \n",
      "angulo:  0.9272952180016122\n",
      "Parte real:  5.0 \n",
      "Parte imaginaria:  4.0\n"
     ]
    }
   ],
   "source": [
    "print('Hola Peter\\n')\n",
    "\n",
    "# Números complejos\n",
    "z = 3+4j\n",
    "\n",
    "mag = np.abs(z)\n",
    "arg = np.angle(z)\n",
    "print(\"magnitud: \",mag,\"\\nangulo: \",arg)\n",
    "\n",
    "Re = np.real(z)\n",
    "Im = np.imag(z)\n",
    "print(\"Parte real: \",mag,\"\\nParte imaginaria: \",Im)"
   ]
  },
  {
   "cell_type": "code",
   "execution_count": 2,
   "metadata": {},
   "outputs": [
    {
     "name": "stdout",
     "output_type": "stream",
     "text": [
      "suma: (4+6j)\n",
      "Multiplicación: (-5+10j)\n",
      "División: (0.44+0.08j)\n",
      "PREGUNTA\n"
     ]
    }
   ],
   "source": [
    "# Operaciones entre complejos\n",
    "z1 = 1 + 2j\n",
    "z2 = 3 + 4j\n",
    "\n",
    "print(\"suma:\",z1+z2)\n",
    "print(\"Multiplicación:\",z1*z2)\n",
    "print(\"División:\",z1/z2)\n"
   ]
  },
  {
   "cell_type": "code",
   "execution_count": 30,
   "metadata": {},
   "outputs": [
    {
     "name": "stdout",
     "output_type": "stream",
     "text": [
      "z1: (3+4j)\n",
      "z1*: (3-4j)\n",
      "|z1|^2: (25+0j)\n"
     ]
    }
   ],
   "source": [
    "# Conjugación \n",
    "z1 = 3 + 4j\n",
    "z2 = np.conj(z1)\n",
    "\n",
    "print(\"z1:\",z1)\n",
    "print(\"z1*:\",z2)\n",
    "print(\"|z1|^2:\",z1*z2)"
   ]
  },
  {
   "cell_type": "markdown",
   "metadata": {},
   "source": [
    "#### Espacios vectoriales"
   ]
  },
  {
   "cell_type": "code",
   "execution_count": 34,
   "metadata": {},
   "outputs": [
    {
     "name": "stdout",
     "output_type": "stream",
     "text": [
      "[1, 2, 3]\n",
      "[1, 2, 3]\n",
      "evil_suma:  [1, 2, 3, 1, 2, 3]\n",
      "evil_prod:  [1, 2, 3, 1, 2, 3, 1, 2, 3]\n"
     ]
    }
   ],
   "source": [
    "# Cómo escribimos un vector en python? -> No usando listas\n",
    "evil_vector1 = [1,2,3]\n",
    "evil_vector2 = [1,2,3]\n",
    "escalar = 3\n",
    "\n",
    "print(evil_vector1)\n",
    "print(evil_vector2)\n",
    "print(\"evil_suma: \",evil_vector1+evil_vector2)\n",
    "print(\"evil_prod: \",escalar*evil_vector2)"
   ]
  },
  {
   "cell_type": "code",
   "execution_count": 35,
   "metadata": {},
   "outputs": [
    {
     "name": "stdout",
     "output_type": "stream",
     "text": [
      "[1 2 3]\n",
      "[1 2 3]\n",
      "suma:  [2 4 6]\n",
      "prod:  [3 6 9]\n"
     ]
    }
   ],
   "source": [
    "# Los representamos mediante arreglos de numpy\n",
    "vector1 = np.array([1,2,3])\n",
    "vector2 = np.array([1,2,3])\n",
    "escalar = 3\n",
    "\n",
    "print(vector1)\n",
    "print(vector2)\n",
    "print(\"suma: \",vector1+vector2)\n",
    "print(\"prod: \",escalar*vector2)"
   ]
  },
  {
   "cell_type": "markdown",
   "metadata": {},
   "source": [
    "#### Normalización"
   ]
  },
  {
   "cell_type": "code",
   "execution_count": 47,
   "metadata": {},
   "outputs": [
    {
     "name": "stdout",
     "output_type": "stream",
     "text": [
      "vector: [1 2 3]\n",
      "norma:  3.7416573867739413\n"
     ]
    }
   ],
   "source": [
    "# Normalizando vectores\n",
    "v = np.array([-1,2,3])\n",
    "print(\"vector:\", np.abs(v))\n",
    "\n",
    "norma = np.sqrt((-1)**2 + 2**2 + 3**2)\n",
    "print(\"norma: \",norma)"
   ]
  },
  {
   "cell_type": "code",
   "execution_count": 50,
   "metadata": {},
   "outputs": [
    {
     "name": "stdout",
     "output_type": "stream",
     "text": [
      "vector unitario: [-0.26726124  0.53452248  0.80178373]\n",
      "componente 1: -1\n"
     ]
    }
   ],
   "source": [
    "v_unitario = v/norma\n",
    "print(\"vector unitario:\",v_unitario)"
   ]
  },
  {
   "cell_type": "code",
   "execution_count": 52,
   "metadata": {},
   "outputs": [
    {
     "name": "stdout",
     "output_type": "stream",
     "text": [
      "componente 1: -1\n",
      "componente 1: 2\n",
      "componente 1: 3\n"
     ]
    }
   ],
   "source": [
    "# Acceder a los elementos de un arreglo\n",
    "print(\"componente 1:\",v[0])\n",
    "print(\"componente 1:\",v[1])\n",
    "print(\"componente 1:\",v[2])"
   ]
  },
  {
   "cell_type": "code",
   "execution_count": 58,
   "metadata": {},
   "outputs": [
    {
     "name": "stdout",
     "output_type": "stream",
     "text": [
      "vector: [-1, 2, 3]\n",
      "abs_vector: [1 2 3]\n",
      "abs_vector^2: [1 4 9]\n",
      "norma^2: 14\n",
      "norma: 3.7416573867739413\n",
      "vector unitario: [-0.26726124  0.53452248  0.80178373]\n"
     ]
    }
   ],
   "source": [
    "# Normalicemos nuevamente accediendo a las componentes\n",
    "v = [-1,2,3]\n",
    "v_abs = np.abs(v)\n",
    "v_abs_cuadrado = v_abs**2\n",
    "norma_cuadrado = np.sum(v_abs_cuadrado)\n",
    "norma = np.sqrt(norma_cuadrado)\n",
    "v_unitario = v/norma\n",
    "\n",
    "print(\"vector:\",v)\n",
    "print(\"abs_vector:\",v_abs)\n",
    "print(\"abs_vector^2:\",v_abs_cuadrado)\n",
    "print(\"norma^2:\",norma_cuadrado)\n",
    "print(\"norma:\",norma)\n",
    "print(\"vector unitario:\",v_unitario)"
   ]
  },
  {
   "cell_type": "code",
   "execution_count": 60,
   "metadata": {},
   "outputs": [
    {
     "name": "stdout",
     "output_type": "stream",
     "text": [
      "[-0.26726124  0.53452248  0.80178373]\n"
     ]
    }
   ],
   "source": [
    "# De forma simplificada\n",
    "v = [-1,2,3]\n",
    "v_unitario = v / np.sqrt(np.sum( np.abs(v)**2 ))\n",
    "\n",
    "print(v_unitario)"
   ]
  },
  {
   "cell_type": "markdown",
   "metadata": {},
   "source": [
    "### Producto interno"
   ]
  },
  {
   "cell_type": "code",
   "execution_count": 61,
   "metadata": {},
   "outputs": [
    {
     "data": {
      "text/plain": [
       "32"
      ]
     },
     "execution_count": 61,
     "metadata": {},
     "output_type": "execute_result"
    }
   ],
   "source": [
    "# Producto interno np.inner\n",
    "# R^3\n",
    "u = np.array([1,2,3])\n",
    "v = np.array([4,5,6])\n",
    "\n",
    "np.inner(u,v)"
   ]
  },
  {
   "cell_type": "code",
   "execution_count": 76,
   "metadata": {},
   "outputs": [
    {
     "data": {
      "text/plain": [
       "(28-10j)"
      ]
     },
     "execution_count": 76,
     "metadata": {},
     "output_type": "execute_result"
    }
   ],
   "source": [
    "# Now in C^2\n",
    "u = np.array([1+2j,3+4j])\n",
    "v = np.array([2+1j,4+3j])\n",
    "\n",
    "np.inner(np.conj(u),v)"
   ]
  },
  {
   "cell_type": "markdown",
   "metadata": {},
   "source": [
    "#### Dirac's notation"
   ]
  },
  {
   "cell_type": "code",
   "execution_count": 96,
   "metadata": {},
   "outputs": [],
   "source": [
    "# Construyendo un módulo\n",
    "\n",
    "def ket(vec):\n",
    "    ket = np.array(vec)\n",
    "    return ket.reshape(-1,1)\n",
    "\n",
    "def bra(vec):\n",
    "    bra = np.array(vec)\n",
    "    return bra.conj().reshape(1,-1)\n",
    "\n",
    "def braket(bra,ket):\n",
    "    return np.inner(bra.flatten(),ket.flatten())\n",
    "\n",
    "def ketbra(bra,ket):\n",
    "    return ket*bra\n",
    "\n",
    "def normalize(ket):\n",
    "    norm = braket(bra(ket),ket)\n",
    "    return 1/np.sqrt(norm) * ket\n",
    "\n",
    "def isOrthogonal(ket1,ket2):\n",
    "    bra1 = bra(ket1)\n",
    "    inner = braket(bra1,ket2)\n",
    "    return bool(inner == 0)"
   ]
  },
  {
   "cell_type": "code",
   "execution_count": 106,
   "metadata": {},
   "outputs": [
    {
     "name": "stdout",
     "output_type": "stream",
     "text": [
      "|u> =\n",
      " [[ 1.+1.j]\n",
      " [ 0.+0.j]\n",
      " [ 1.+0.j]\n",
      " [-3.+0.j]]\n",
      "\n",
      "<v| = [[0.-2.j 0.-0.j 0.-0.j 3.-1.j]]\n",
      "\n",
      "<v|u> = (-7+1j)\n",
      "\n",
      "|u><v| =\n",
      " [[ 2.-2.j  0.+0.j  0.+0.j  4.+2.j]\n",
      " [ 0.+0.j  0.+0.j  0.+0.j  0.+0.j]\n",
      " [ 0.-2.j  0.+0.j  0.+0.j  3.-1.j]\n",
      " [ 0.+6.j  0.+0.j  0.+0.j -9.+3.j]]\n",
      "\n",
      "|u> normalizado =\n",
      "  [[ 0.28867513+0.28867513j]\n",
      " [ 0.        +0.j        ]\n",
      " [ 0.28867513+0.j        ]\n",
      " [-0.8660254 +0.j        ]]\n",
      "\n",
      "|u> y |v> son ortogonales?: False\n"
     ]
    }
   ],
   "source": [
    "# Probando las funciones\n",
    "\n",
    "u = [1+1j, 0, 1,-3]\n",
    "v = [2j, 0, 0, 3+1j]\n",
    "\n",
    "k = ket(u)\n",
    "b = bra(v)\n",
    "\n",
    "prod_int = braket(b,k)\n",
    "prod_ext = ketbra(b,k)\n",
    "\n",
    "u_norm = normalize(k)\n",
    "\n",
    "orth = isOrthogonal(k,b)\n",
    "\n",
    "print('|u> =\\n',k)\n",
    "print('\\n<v| =', b)\n",
    "print('\\n<v|u> =', prod_int)\n",
    "print('\\n|u><v| =\\n', prod_ext)\n",
    "print('\\n|u> normalizado =\\n ', u_norm)\n",
    "print('\\n|u> y |v> son ortogonales?:', orth)"
   ]
  },
  {
   "cell_type": "markdown",
   "metadata": {},
   "source": [
    "#### Qubits"
   ]
  },
  {
   "cell_type": "code",
   "execution_count": 114,
   "metadata": {},
   "outputs": [
    {
     "name": "stdout",
     "output_type": "stream",
     "text": [
      "|0> = \n",
      " [[1]\n",
      " [0]]\n",
      "|1> = \n",
      " [[0]\n",
      " [1]]\n"
     ]
    }
   ],
   "source": [
    "zero = ket([1,0])\n",
    "print(\"|0> = \\n\",zero)\n",
    "one = ket([0,1])\n",
    "print(\"|1> = \\n\",one)"
   ]
  }
 ],
 "metadata": {
  "kernelspec": {
   "display_name": "Python 3",
   "language": "python",
   "name": "python3"
  },
  "language_info": {
   "codemirror_mode": {
    "name": "ipython",
    "version": 3
   },
   "file_extension": ".py",
   "mimetype": "text/x-python",
   "name": "python",
   "nbconvert_exporter": "python",
   "pygments_lexer": "ipython3",
   "version": "3.8.5"
  }
 },
 "nbformat": 4,
 "nbformat_minor": 4
}
