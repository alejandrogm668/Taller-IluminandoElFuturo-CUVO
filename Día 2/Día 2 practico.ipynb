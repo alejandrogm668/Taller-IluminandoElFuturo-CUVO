{
 "cells": [
  {
   "cell_type": "markdown",
   "metadata": {},
   "source": [
    "## Día 2\n",
    "Referencias :\n",
    "1.[TEQS](https://github.com/The-Eigensolvers/TEQS)\n",
    "2.[Qiskit textbook](https://qiskit.org/textbook/ch-gates/multiple-qubits-entangled-states.html)"
   ]
  },
  {
   "cell_type": "code",
   "execution_count": 1,
   "metadata": {},
   "outputs": [],
   "source": [
    "import numpy as np"
   ]
  },
  {
   "cell_type": "markdown",
   "metadata": {},
   "source": [
    "#### Matrices"
   ]
  },
  {
   "cell_type": "code",
   "execution_count": 2,
   "metadata": {},
   "outputs": [],
   "source": [
    "from sympy import Matrix\n",
    "\n",
    "# Función para visualizar matrices\n",
    "def view(M,name=''):\n",
    "    display(name,Matrix(M))"
   ]
  },
  {
   "cell_type": "code",
   "execution_count": 3,
   "metadata": {},
   "outputs": [
    {
     "name": "stdout",
     "output_type": "stream",
     "text": [
      "A: \n",
      " [[1 2 3]\n",
      " [4 5 6]\n",
      " [7 8 9]]\n"
     ]
    },
    {
     "data": {
      "text/plain": [
       "'B:'"
      ]
     },
     "metadata": {},
     "output_type": "display_data"
    },
    {
     "data": {
      "text/latex": [
       "$\\displaystyle \\left[\\begin{matrix}1 & 0 & 0\\\\0 & 1 & 0\\\\0 & 0 & 1\\end{matrix}\\right]$"
      ],
      "text/plain": [
       "Matrix([\n",
       "[1, 0, 0],\n",
       "[0, 1, 0],\n",
       "[0, 0, 1]])"
      ]
     },
     "metadata": {},
     "output_type": "display_data"
    }
   ],
   "source": [
    "A = np.array([ [1,2,3], [4,5,6], [7,8,9] ])\n",
    "print(\"A: \\n\",A)\n",
    "\n",
    "B = np.array([ [1,0,0], [0,1,0], [0,0,1] ])\n",
    "view(B, \"B:\")"
   ]
  },
  {
   "cell_type": "code",
   "execution_count": 10,
   "metadata": {},
   "outputs": [
    {
     "data": {
      "text/plain": [
       "'A*B'"
      ]
     },
     "metadata": {},
     "output_type": "display_data"
    },
    {
     "data": {
      "text/latex": [
       "$\\displaystyle \\left[\\begin{matrix}1 & 0 & 0\\\\0 & 5 & 0\\\\0 & 0 & 9\\end{matrix}\\right]$"
      ],
      "text/plain": [
       "Matrix([\n",
       "[1, 0, 0],\n",
       "[0, 5, 0],\n",
       "[0, 0, 9]])"
      ]
     },
     "metadata": {},
     "output_type": "display_data"
    },
    {
     "data": {
      "text/plain": [
       "'A·B'"
      ]
     },
     "metadata": {},
     "output_type": "display_data"
    },
    {
     "data": {
      "text/latex": [
       "$\\displaystyle \\left[\\begin{matrix}1 & 2 & 3\\\\4 & 5 & 6\\\\7 & 8 & 9\\end{matrix}\\right]$"
      ],
      "text/plain": [
       "Matrix([\n",
       "[1, 2, 3],\n",
       "[4, 5, 6],\n",
       "[7, 8, 9]])"
      ]
     },
     "metadata": {},
     "output_type": "display_data"
    },
    {
     "data": {
      "text/plain": [
       "'dot(A,B)'"
      ]
     },
     "metadata": {},
     "output_type": "display_data"
    },
    {
     "data": {
      "text/latex": [
       "$\\displaystyle \\left[\\begin{matrix}1 & 2 & 3\\\\4 & 5 & 6\\\\7 & 8 & 9\\end{matrix}\\right]$"
      ],
      "text/plain": [
       "Matrix([\n",
       "[1, 2, 3],\n",
       "[4, 5, 6],\n",
       "[7, 8, 9]])"
      ]
     },
     "metadata": {},
     "output_type": "display_data"
    }
   ],
   "source": [
    "# Multiplicación de matrices \n",
    "\n",
    "view(A*B,\"A*B\") \n",
    "view(A@B,\"A·B\") # Para dos dimensiones es lo mismo que np.dot()\n",
    "view(np.dot(A,B),\"dot(A,B)\")"
   ]
  },
  {
   "cell_type": "markdown",
   "metadata": {},
   "source": [
    "#### Operadores lineales"
   ]
  },
  {
   "cell_type": "code",
   "execution_count": 9,
   "metadata": {},
   "outputs": [
    {
     "data": {
      "text/plain": [
       "'X gate'"
      ]
     },
     "metadata": {},
     "output_type": "display_data"
    },
    {
     "data": {
      "text/latex": [
       "$\\displaystyle \\left[\\begin{matrix}0 & 1\\\\1 & 0\\end{matrix}\\right]$"
      ],
      "text/plain": [
       "Matrix([\n",
       "[0, 1],\n",
       "[1, 0]])"
      ]
     },
     "metadata": {},
     "output_type": "display_data"
    },
    {
     "data": {
      "text/plain": [
       "'X|0>'"
      ]
     },
     "metadata": {},
     "output_type": "display_data"
    },
    {
     "data": {
      "text/latex": [
       "$\\displaystyle \\left[\\begin{matrix}0\\\\1\\end{matrix}\\right]$"
      ],
      "text/plain": [
       "Matrix([\n",
       "[0],\n",
       "[1]])"
      ]
     },
     "metadata": {},
     "output_type": "display_data"
    },
    {
     "data": {
      "text/plain": [
       "'|1>'"
      ]
     },
     "metadata": {},
     "output_type": "display_data"
    },
    {
     "data": {
      "text/latex": [
       "$\\displaystyle \\left[\\begin{matrix}0\\\\1\\end{matrix}\\right]$"
      ],
      "text/plain": [
       "Matrix([\n",
       "[0],\n",
       "[1]])"
      ]
     },
     "metadata": {},
     "output_type": "display_data"
    }
   ],
   "source": [
    "# X Gate\n",
    "\n",
    "X = np.array([[0,1],[1,0]])\n",
    "view(X,\"X gate\")\n",
    "\n",
    "Zero = np.array([1,0])\n",
    "One = np.array([0,1])\n",
    "\n",
    "view(X@Zero,'X|0>')\n",
    "view(One,'|1>')"
   ]
  },
  {
   "cell_type": "code",
   "execution_count": 11,
   "metadata": {},
   "outputs": [
    {
     "data": {
      "text/plain": [
       "'A:'"
      ]
     },
     "metadata": {},
     "output_type": "display_data"
    },
    {
     "data": {
      "text/latex": [
       "$\\displaystyle \\left[\\begin{matrix}1.0 i & 1.0 + 2.0 i\\\\3.0 & - 1.0 i\\end{matrix}\\right]$"
      ],
      "text/plain": [
       "Matrix([\n",
       "[1.0*I, 1.0 + 2.0*I],\n",
       "[  3.0,      -1.0*I]])"
      ]
     },
     "metadata": {},
     "output_type": "display_data"
    },
    {
     "data": {
      "text/plain": [
       "'A conjugada'"
      ]
     },
     "metadata": {},
     "output_type": "display_data"
    },
    {
     "data": {
      "text/latex": [
       "$\\displaystyle \\left[\\begin{matrix}- 1.0 i & 1.0 - 2.0 i\\\\3.0 & 1.0 i\\end{matrix}\\right]$"
      ],
      "text/plain": [
       "Matrix([\n",
       "[-1.0*I, 1.0 - 2.0*I],\n",
       "[   3.0,       1.0*I]])"
      ]
     },
     "metadata": {},
     "output_type": "display_data"
    },
    {
     "data": {
      "text/plain": [
       "'A conjugada transpuesta'"
      ]
     },
     "metadata": {},
     "output_type": "display_data"
    },
    {
     "data": {
      "text/latex": [
       "$\\displaystyle \\left[\\begin{matrix}- 1.0 i & 3.0\\\\1.0 - 2.0 i & 1.0 i\\end{matrix}\\right]$"
      ],
      "text/plain": [
       "Matrix([\n",
       "[     -1.0*I,   3.0],\n",
       "[1.0 - 2.0*I, 1.0*I]])"
      ]
     },
     "metadata": {},
     "output_type": "display_data"
    }
   ],
   "source": [
    "# Matrix hermítica conjugada\n",
    "A = np.array([ [0+1j, 1+2j], [3+0j, 0-1j] ])\n",
    "view(A,\"A:\")\n",
    "\n",
    "view(A.conj(),\"A conjugada\")\n",
    "view(A.conj().transpose(),\"A conjugada transpuesta\")"
   ]
  },
  {
   "cell_type": "code",
   "execution_count": 12,
   "metadata": {},
   "outputs": [
    {
     "data": {
      "text/plain": [
       "'A^+'"
      ]
     },
     "metadata": {},
     "output_type": "display_data"
    },
    {
     "data": {
      "text/latex": [
       "$\\displaystyle \\left[\\begin{matrix}- 1.0 i & 3.0\\\\1.0 - 2.0 i & 1.0 i\\end{matrix}\\right]$"
      ],
      "text/plain": [
       "Matrix([\n",
       "[     -1.0*I,   3.0],\n",
       "[1.0 - 2.0*I, 1.0*I]])"
      ]
     },
     "metadata": {},
     "output_type": "display_data"
    }
   ],
   "source": [
    "# Hagamoslo con una función\n",
    "\n",
    "def adjunta(M):\n",
    "    return M.conj().transpose()\n",
    "\n",
    "view(adjunta(A),\"A^+\")"
   ]
  },
  {
   "cell_type": "markdown",
   "metadata": {},
   "source": [
    "#### Valores/vectores propios"
   ]
  },
  {
   "cell_type": "code",
   "execution_count": 5,
   "metadata": {},
   "outputs": [
    {
     "data": {
      "text/plain": [
       "'Y'"
      ]
     },
     "metadata": {},
     "output_type": "display_data"
    },
    {
     "data": {
      "text/latex": [
       "$\\displaystyle \\left[\\begin{matrix}0 & - 1.0 i\\\\1.0 i & 0\\end{matrix}\\right]$"
      ],
      "text/plain": [
       "Matrix([\n",
       "[    0, -1.0*I],\n",
       "[1.0*I,      0]])"
      ]
     },
     "metadata": {},
     "output_type": "display_data"
    },
    {
     "name": "stdout",
     "output_type": "stream",
     "text": [
      "Valores propios: \n",
      " [ 1.+0.j -1.+0.j]\n",
      "Valores propios: \n",
      " [-1.  1.]\n",
      "Vectores propios: \n",
      " [[-0.70710678-0.j         -0.70710678+0.j        ]\n",
      " [ 0.        +0.70710678j  0.        -0.70710678j]]\n"
     ]
    }
   ],
   "source": [
    "Y = np.array([[0,-1j],[1j,0]])\n",
    "view(Y,\"Y\")\n",
    "\n",
    "vals = np.linalg.eigvals(Y)\n",
    "print(\"Valores propios: \\n\",vals)\n",
    "\n",
    "vals_vecs = np.linalg.eigh(Y) # h es de Hermítica. Se explica con help abajo\n",
    "\n",
    "print(\"Valores propios: \\n\",vals_vecs[0])\n",
    "print(\"Vectores propios: \\n\",vals_vecs[1])"
   ]
  },
  {
   "cell_type": "code",
   "execution_count": 14,
   "metadata": {},
   "outputs": [
    {
     "data": {
      "text/plain": [
       "'X'"
      ]
     },
     "metadata": {},
     "output_type": "display_data"
    },
    {
     "data": {
      "text/latex": [
       "$\\displaystyle \\left[\\begin{matrix}0 & 1\\\\1 & 0\\end{matrix}\\right]$"
      ],
      "text/plain": [
       "Matrix([\n",
       "[0, 1],\n",
       "[1, 0]])"
      ]
     },
     "metadata": {},
     "output_type": "display_data"
    },
    {
     "name": "stdout",
     "output_type": "stream",
     "text": [
      "Valores propios: \n",
      " [-1.  1.]\n",
      "Vectores propios: \n",
      " [[-0.70710678  0.70710678]\n",
      " [ 0.70710678  0.70710678]]\n"
     ]
    }
   ],
   "source": [
    "X = np.array([[0,1],[1,0]])\n",
    "view(X,\"X\")\n",
    "\n",
    "vals_vecs = np.linalg.eigh(X)\n",
    "\n",
    "print(\"Valores propios: \\n\",vals_vecs[0])\n",
    "print(\"Vectores propios: \\n\",vals_vecs[1])"
   ]
  },
  {
   "cell_type": "code",
   "execution_count": 15,
   "metadata": {},
   "outputs": [
    {
     "name": "stdout",
     "output_type": "stream",
     "text": [
      "Help on function eigh in module numpy.linalg:\n",
      "\n",
      "eigh(a, UPLO='L')\n",
      "    Return the eigenvalues and eigenvectors of a complex Hermitian\n",
      "    (conjugate symmetric) or a real symmetric matrix.\n",
      "    \n",
      "    Returns two objects, a 1-D array containing the eigenvalues of `a`, and\n",
      "    a 2-D square array or matrix (depending on the input type) of the\n",
      "    corresponding eigenvectors (in columns).\n",
      "    \n",
      "    Parameters\n",
      "    ----------\n",
      "    a : (..., M, M) array\n",
      "        Hermitian or real symmetric matrices whose eigenvalues and\n",
      "        eigenvectors are to be computed.\n",
      "    UPLO : {'L', 'U'}, optional\n",
      "        Specifies whether the calculation is done with the lower triangular\n",
      "        part of `a` ('L', default) or the upper triangular part ('U').\n",
      "        Irrespective of this value only the real parts of the diagonal will\n",
      "        be considered in the computation to preserve the notion of a Hermitian\n",
      "        matrix. It therefore follows that the imaginary part of the diagonal\n",
      "        will always be treated as zero.\n",
      "    \n",
      "    Returns\n",
      "    -------\n",
      "    w : (..., M) ndarray\n",
      "        The eigenvalues in ascending order, each repeated according to\n",
      "        its multiplicity.\n",
      "    v : {(..., M, M) ndarray, (..., M, M) matrix}\n",
      "        The column ``v[:, i]`` is the normalized eigenvector corresponding\n",
      "        to the eigenvalue ``w[i]``.  Will return a matrix object if `a` is\n",
      "        a matrix object.\n",
      "    \n",
      "    Raises\n",
      "    ------\n",
      "    LinAlgError\n",
      "        If the eigenvalue computation does not converge.\n",
      "    \n",
      "    See Also\n",
      "    --------\n",
      "    eigvalsh : eigenvalues of real symmetric or complex Hermitian\n",
      "               (conjugate symmetric) arrays.\n",
      "    eig : eigenvalues and right eigenvectors for non-symmetric arrays.\n",
      "    eigvals : eigenvalues of non-symmetric arrays.\n",
      "    scipy.linalg.eigh : Similar function in SciPy (but also solves the\n",
      "                        generalized eigenvalue problem).\n",
      "    \n",
      "    Notes\n",
      "    -----\n",
      "    \n",
      "    .. versionadded:: 1.8.0\n",
      "    \n",
      "    Broadcasting rules apply, see the `numpy.linalg` documentation for\n",
      "    details.\n",
      "    \n",
      "    The eigenvalues/eigenvectors are computed using LAPACK routines ``_syevd``,\n",
      "    ``_heevd``.\n",
      "    \n",
      "    The eigenvalues of real symmetric or complex Hermitian matrices are\n",
      "    always real. [1]_ The array `v` of (column) eigenvectors is unitary\n",
      "    and `a`, `w`, and `v` satisfy the equations\n",
      "    ``dot(a, v[:, i]) = w[i] * v[:, i]``.\n",
      "    \n",
      "    References\n",
      "    ----------\n",
      "    .. [1] G. Strang, *Linear Algebra and Its Applications*, 2nd Ed., Orlando,\n",
      "           FL, Academic Press, Inc., 1980, pg. 222.\n",
      "    \n",
      "    Examples\n",
      "    --------\n",
      "    >>> from numpy import linalg as LA\n",
      "    >>> a = np.array([[1, -2j], [2j, 5]])\n",
      "    >>> a\n",
      "    array([[ 1.+0.j, -0.-2.j],\n",
      "           [ 0.+2.j,  5.+0.j]])\n",
      "    >>> w, v = LA.eigh(a)\n",
      "    >>> w; v\n",
      "    array([0.17157288, 5.82842712])\n",
      "    array([[-0.92387953+0.j        , -0.38268343+0.j        ], # may vary\n",
      "           [ 0.        +0.38268343j,  0.        -0.92387953j]])\n",
      "    \n",
      "    >>> np.dot(a, v[:, 0]) - w[0] * v[:, 0] # verify 1st e-val/vec pair\n",
      "    array([5.55111512e-17+0.0000000e+00j, 0.00000000e+00+1.2490009e-16j])\n",
      "    >>> np.dot(a, v[:, 1]) - w[1] * v[:, 1] # verify 2nd e-val/vec pair\n",
      "    array([0.+0.j, 0.+0.j])\n",
      "    \n",
      "    >>> A = np.matrix(a) # what happens if input is a matrix object\n",
      "    >>> A\n",
      "    matrix([[ 1.+0.j, -0.-2.j],\n",
      "            [ 0.+2.j,  5.+0.j]])\n",
      "    >>> w, v = LA.eigh(A)\n",
      "    >>> w; v\n",
      "    array([0.17157288, 5.82842712])\n",
      "    matrix([[-0.92387953+0.j        , -0.38268343+0.j        ], # may vary\n",
      "            [ 0.        +0.38268343j,  0.        -0.92387953j]])\n",
      "    \n",
      "    >>> # demonstrate the treatment of the imaginary part of the diagonal\n",
      "    >>> a = np.array([[5+2j, 9-2j], [0+2j, 2-1j]])\n",
      "    >>> a\n",
      "    array([[5.+2.j, 9.-2.j],\n",
      "           [0.+2.j, 2.-1.j]])\n",
      "    >>> # with UPLO='L' this is numerically equivalent to using LA.eig() with:\n",
      "    >>> b = np.array([[5.+0.j, 0.-2.j], [0.+2.j, 2.-0.j]])\n",
      "    >>> b\n",
      "    array([[5.+0.j, 0.-2.j],\n",
      "           [0.+2.j, 2.+0.j]])\n",
      "    >>> wa, va = LA.eigh(a)\n",
      "    >>> wb, vb = LA.eig(b)\n",
      "    >>> wa; wb\n",
      "    array([1., 6.])\n",
      "    array([6.+0.j, 1.+0.j])\n",
      "    >>> va; vb\n",
      "    array([[-0.4472136 +0.j        , -0.89442719+0.j        ], # may vary\n",
      "           [ 0.        +0.89442719j,  0.        -0.4472136j ]])\n",
      "    array([[ 0.89442719+0.j       , -0.        +0.4472136j],\n",
      "           [-0.        +0.4472136j,  0.89442719+0.j       ]])\n",
      "\n"
     ]
    }
   ],
   "source": [
    "help(np.linalg.eigh)"
   ]
  },
  {
   "cell_type": "code",
   "execution_count": 21,
   "metadata": {},
   "outputs": [
    {
     "data": {
      "text/plain": [
       "array([-0.70710678,  0.70710678])"
      ]
     },
     "execution_count": 21,
     "metadata": {},
     "output_type": "execute_result"
    }
   ],
   "source": [
    "vals_vecs[1][:,0]"
   ]
  },
  {
   "cell_type": "code",
   "execution_count": 23,
   "metadata": {},
   "outputs": [
    {
     "data": {
      "text/plain": [
       "array([0.70710678, 0.70710678])"
      ]
     },
     "execution_count": 23,
     "metadata": {},
     "output_type": "execute_result"
    }
   ],
   "source": [
    "vals_vecs[1][:,1]"
   ]
  },
  {
   "cell_type": "markdown",
   "metadata": {},
   "source": [
    "#### Operadores unitarios"
   ]
  },
  {
   "cell_type": "markdown",
   "metadata": {},
   "source": [
    "$$H = \\frac{1}{\\sqrt{2}} \\begin{bmatrix} 1 & 1 \\\\ 1 & -1 \\end{bmatrix}$$"
   ]
  },
  {
   "cell_type": "code",
   "execution_count": 129,
   "metadata": {},
   "outputs": [
    {
     "data": {
      "text/plain": [
       "'Hadamard'"
      ]
     },
     "metadata": {},
     "output_type": "display_data"
    },
    {
     "data": {
      "text/latex": [
       "$\\displaystyle \\left[\\begin{matrix}0.707106781186547 & 0.707106781186547\\\\0.707106781186547 & -0.707106781186547\\end{matrix}\\right]$"
      ],
      "text/plain": [
       "Matrix([\n",
       "[0.707106781186547,  0.707106781186547],\n",
       "[0.707106781186547, -0.707106781186547]])"
      ]
     },
     "metadata": {},
     "output_type": "display_data"
    },
    {
     "data": {
      "text/plain": [
       "'H·H^+'"
      ]
     },
     "metadata": {},
     "output_type": "display_data"
    },
    {
     "data": {
      "text/latex": [
       "$\\displaystyle \\left[\\begin{matrix}1.0 & -2.23711431707574 \\cdot 10^{-17}\\\\-2.23711431707574 \\cdot 10^{-17} & 1.0\\end{matrix}\\right]$"
      ],
      "text/plain": [
       "Matrix([\n",
       "[                  1.0, -2.23711431707574e-17],\n",
       "[-2.23711431707574e-17,                   1.0]])"
      ]
     },
     "metadata": {},
     "output_type": "display_data"
    },
    {
     "data": {
      "text/plain": [
       "'H^+·H'"
      ]
     },
     "metadata": {},
     "output_type": "display_data"
    },
    {
     "data": {
      "text/latex": [
       "$\\displaystyle \\left[\\begin{matrix}1.0 & -2.23711431707574 \\cdot 10^{-17}\\\\-2.23711431707574 \\cdot 10^{-17} & 1.0\\end{matrix}\\right]$"
      ],
      "text/plain": [
       "Matrix([\n",
       "[                  1.0, -2.23711431707574e-17],\n",
       "[-2.23711431707574e-17,                   1.0]])"
      ]
     },
     "metadata": {},
     "output_type": "display_data"
    }
   ],
   "source": [
    "H = np.array([[1,1],[1,-1]])/np.sqrt(2)\n",
    "view(H,\"Hadamard\")\n",
    "\n",
    "view(adjunta(H)@H,\"H·H^+\")\n",
    "view(H@adjunta(H),\"H^+·H\")"
   ]
  },
  {
   "cell_type": "code",
   "execution_count": 138,
   "metadata": {},
   "outputs": [
    {
     "name": "stdout",
     "output_type": "stream",
     "text": [
      "Valores propios: \n",
      " [-1.  1.]\n"
     ]
    },
    {
     "data": {
      "text/plain": [
       "'u_0'"
      ]
     },
     "metadata": {},
     "output_type": "display_data"
    },
    {
     "data": {
      "text/latex": [
       "$\\displaystyle \\left[\\begin{matrix}0.38268343236509\\\\-0.923879532511287\\end{matrix}\\right]$"
      ],
      "text/plain": [
       "Matrix([\n",
       "[  0.38268343236509],\n",
       "[-0.923879532511287]])"
      ]
     },
     "metadata": {},
     "output_type": "display_data"
    },
    {
     "data": {
      "text/plain": [
       "'Hu_0'"
      ]
     },
     "metadata": {},
     "output_type": "display_data"
    },
    {
     "data": {
      "text/latex": [
       "$\\displaystyle \\left[\\begin{matrix}-0.38268343236509\\\\0.923879532511287\\end{matrix}\\right]$"
      ],
      "text/plain": [
       "Matrix([\n",
       "[-0.38268343236509],\n",
       "[0.923879532511287]])"
      ]
     },
     "metadata": {},
     "output_type": "display_data"
    }
   ],
   "source": [
    "vals_vecs = np.linalg.eigh(H)\n",
    "\n",
    "print(\"Valores propios: \\n\",vals_vecs[0])\n",
    "\n",
    "u_0 = vals_vecs[1][:,0]\n",
    "view(u_0,\"u_0\")\n",
    "\n",
    "view(H@u_0,\"Hu_0\")"
   ]
  },
  {
   "cell_type": "markdown",
   "metadata": {},
   "source": [
    "La compuerta cuántica más general de 1 qubit es la *Compuerta-U* y tiene la siguiente forma: \n",
    "\n",
    "$$U(\\theta,\\phi,\\lambda) = \\begin{bmatrix} \\cos \\frac{\\theta}{2} & - e^{i\\lambda}  \\sin \\frac{\\theta}{2} \\\\  e^{i\\phi}  \\sin \\frac{\\theta}{2} & e^{i (\\phi + \\lambda)} \\cos \\frac{\\theta}{2} \\end{bmatrix}$$"
   ]
  },
  {
   "cell_type": "markdown",
   "metadata": {},
   "source": [
    "**Pregunta** Para que valores de los parámetros se tienen las compuertas que hemos visto?"
   ]
  },
  {
   "cell_type": "markdown",
   "metadata": {},
   "source": [
    "## Qiskit "
   ]
  },
  {
   "cell_type": "code",
   "execution_count": 1,
   "metadata": {},
   "outputs": [],
   "source": [
    "import numpy as np\n",
    "from qiskit import QuantumCircuit"
   ]
  },
  {
   "cell_type": "code",
   "execution_count": 6,
   "metadata": {
    "collapsed": true,
    "jupyter": {
     "outputs_hidden": true
    }
   },
   "outputs": [
    {
     "name": "stdout",
     "output_type": "stream",
     "text": [
      "Help on class QuantumCircuit in module qiskit.circuit.quantumcircuit:\n",
      "\n",
      "class QuantumCircuit(builtins.object)\n",
      " |  QuantumCircuit(*regs, name=None, global_phase=0, metadata=None)\n",
      " |  \n",
      " |  Create a new circuit.\n",
      " |  \n",
      " |  A circuit is a list of instructions bound to some registers.\n",
      " |  \n",
      " |  Args:\n",
      " |      regs (list(:class:`Register`) or list(``int``) or list(list(:class:`Bit`))): The\n",
      " |          registers to be included in the circuit.\n",
      " |  \n",
      " |          * If a list of :class:`Register` objects, represents the :class:`QuantumRegister`\n",
      " |            and/or :class:`ClassicalRegister` objects to include in the circuit.\n",
      " |  \n",
      " |            For example:\n",
      " |  \n",
      " |              * ``QuantumCircuit(QuantumRegister(4))``\n",
      " |              * ``QuantumCircuit(QuantumRegister(4), ClassicalRegister(3))``\n",
      " |              * ``QuantumCircuit(QuantumRegister(4, 'qr0'), QuantumRegister(2, 'qr1'))``\n",
      " |  \n",
      " |          * If a list of ``int``, the amount of qubits and/or classical bits to include in\n",
      " |            the circuit. It can either be a single int for just the number of quantum bits,\n",
      " |            or 2 ints for the number of quantum bits and classical bits, respectively.\n",
      " |  \n",
      " |            For example:\n",
      " |  \n",
      " |              * ``QuantumCircuit(4) # A QuantumCircuit with 4 qubits``\n",
      " |              * ``QuantumCircuit(4, 3) # A QuantumCircuit with 4 qubits and 3 classical bits``\n",
      " |  \n",
      " |          * If a list of python lists containing :class:`Bit` objects, a collection of\n",
      " |            :class:`Bit` s to be added to the circuit.\n",
      " |  \n",
      " |  \n",
      " |      name (str): the name of the quantum circuit. If not set, an\n",
      " |          automatically generated string will be assigned.\n",
      " |      global_phase (float or ParameterExpression): The global phase of the circuit in radians.\n",
      " |      metadata (dict): Arbitrary key value metadata to associate with the\n",
      " |          circuit. This gets stored as free-form data in a dict in the\n",
      " |          :attr:`~qiskit.circuit.QuantumCircuit.metadata` attribute. It will\n",
      " |          not be directly used in the circuit.\n",
      " |  \n",
      " |  Raises:\n",
      " |      CircuitError: if the circuit name, if given, is not valid.\n",
      " |  \n",
      " |  Examples:\n",
      " |  \n",
      " |      Construct a simple Bell state circuit.\n",
      " |  \n",
      " |      .. jupyter-execute::\n",
      " |  \n",
      " |          from qiskit import QuantumCircuit\n",
      " |  \n",
      " |          qc = QuantumCircuit(2, 2)\n",
      " |          qc.h(0)\n",
      " |          qc.cx(0, 1)\n",
      " |          qc.measure([0, 1], [0, 1])\n",
      " |          qc.draw()\n",
      " |  \n",
      " |      Construct a 5-qubit GHZ circuit.\n",
      " |  \n",
      " |      .. jupyter-execute::\n",
      " |  \n",
      " |          from qiskit import QuantumCircuit\n",
      " |  \n",
      " |          qc = QuantumCircuit(5)\n",
      " |          qc.h(0)\n",
      " |          qc.cx(0, range(1, 5))\n",
      " |          qc.measure_all()\n",
      " |  \n",
      " |      Construct a 4-qubit Bernstein-Vazirani circuit using registers.\n",
      " |  \n",
      " |      .. jupyter-execute::\n",
      " |  \n",
      " |          from qiskit import QuantumRegister, ClassicalRegister, QuantumCircuit\n",
      " |  \n",
      " |          qr = QuantumRegister(3, 'q')\n",
      " |          anc = QuantumRegister(1, 'ancilla')\n",
      " |          cr = ClassicalRegister(3, 'c')\n",
      " |          qc = QuantumCircuit(qr, anc, cr)\n",
      " |  \n",
      " |          qc.x(anc[0])\n",
      " |          qc.h(anc[0])\n",
      " |          qc.h(qr[0:3])\n",
      " |          qc.cx(qr[0:3], anc[0])\n",
      " |          qc.h(qr[0:3])\n",
      " |          qc.barrier(qr)\n",
      " |          qc.measure(qr, cr)\n",
      " |  \n",
      " |          qc.draw()\n",
      " |  \n",
      " |  Methods defined here:\n",
      " |  \n",
      " |  __add__(self, rhs)\n",
      " |      Overload + to implement self.combine.\n",
      " |  \n",
      " |  __and__(self, rhs)\n",
      " |      Overload & to implement self.compose.\n",
      " |  \n",
      " |  __eq__(self, other)\n",
      " |      Return self==value.\n",
      " |  \n",
      " |  __getitem__(self, item)\n",
      " |      Return indexed operation.\n",
      " |  \n",
      " |  __iadd__(self, rhs)\n",
      " |      Overload += to implement self.extend.\n",
      " |  \n",
      " |  __iand__(self, rhs)\n",
      " |      Overload &= to implement self.compose in place.\n",
      " |  \n",
      " |  __init__(self, *regs, name=None, global_phase=0, metadata=None)\n",
      " |      Initialize self.  See help(type(self)) for accurate signature.\n",
      " |  \n",
      " |  __ixor__(self, top)\n",
      " |      Overload ^= to implement self.tensor in place.\n",
      " |  \n",
      " |  __len__(self)\n",
      " |      Return number of operations in circuit.\n",
      " |  \n",
      " |  __str__(self)\n",
      " |      Return str(self).\n",
      " |  \n",
      " |  __xor__(self, top)\n",
      " |      Overload ^ to implement self.tensor.\n",
      " |  \n",
      " |  add_bits(self, bits)\n",
      " |      Add Bits to the circuit.\n",
      " |  \n",
      " |  add_calibration(self, gate, qubits, schedule, params=None)\n",
      " |      Register a low-level, custom pulse definition for the given gate.\n",
      " |      \n",
      " |      Args:\n",
      " |          gate (Union[Gate, str]): Gate information.\n",
      " |          qubits (Union[int, Tuple[int]]): List of qubits to be measured.\n",
      " |          schedule (Schedule): Schedule information.\n",
      " |          params (Optional[List[Union[float, Parameter]]]): A list of parameters.\n",
      " |      \n",
      " |      Raises:\n",
      " |          Exception: if the gate is of type string and params is None.\n",
      " |  \n",
      " |  add_register(self, *regs)\n",
      " |      Add registers.\n",
      " |  \n",
      " |  append(self, instruction, qargs=None, cargs=None)\n",
      " |      Append one or more instructions to the end of the circuit, modifying\n",
      " |      the circuit in place. Expands qargs and cargs.\n",
      " |      \n",
      " |      Args:\n",
      " |          instruction (qiskit.circuit.Instruction): Instruction instance to append\n",
      " |          qargs (list(argument)): qubits to attach instruction to\n",
      " |          cargs (list(argument)): clbits to attach instruction to\n",
      " |      \n",
      " |      Returns:\n",
      " |          qiskit.circuit.Instruction: a handle to the instruction that was just added\n",
      " |      \n",
      " |      Raises:\n",
      " |          CircuitError: if object passed is a subclass of Instruction\n",
      " |          CircuitError: if object passed is neither subclass nor an instance of Instruction\n",
      " |  \n",
      " |  assign_parameters(self, parameters, inplace=False, param_dict=None)\n",
      " |      Assign parameters to new parameters or values.\n",
      " |      \n",
      " |      The keys of the parameter dictionary must be Parameter instances in the current circuit. The\n",
      " |      values of the dictionary can either be numeric values or new parameter objects.\n",
      " |      The values can be assigned to the current circuit object or to a copy of it.\n",
      " |      \n",
      " |      Args:\n",
      " |          parameters (dict or iterable): Either a dictionary or iterable specifying the new\n",
      " |              parameter values. If a dict, it specifies the mapping from ``current_parameter`` to\n",
      " |              ``new_parameter``, where ``new_parameter`` can be a new parameter object or a\n",
      " |              numeric value. If an iterable, the elements are assigned to the existing parameters\n",
      " |              in the order they were inserted. You can call ``QuantumCircuit.parameters`` to check\n",
      " |              this order.\n",
      " |          inplace (bool): If False, a copy of the circuit with the bound parameters is\n",
      " |              returned. If True the circuit instance itself is modified.\n",
      " |          param_dict (dict): Deprecated, use ``parameters`` instead.\n",
      " |      \n",
      " |      Raises:\n",
      " |          CircuitError: If parameters is a dict and contains parameters not present in the\n",
      " |              circuit.\n",
      " |          ValueError: If parameters is a list/array and the length mismatches the number of free\n",
      " |              parameters in the circuit.\n",
      " |      \n",
      " |      Returns:\n",
      " |          Optional(QuantumCircuit): A copy of the circuit with bound parameters, if\n",
      " |          ``inplace`` is False, otherwise None.\n",
      " |      \n",
      " |      Examples:\n",
      " |      \n",
      " |          Create a parameterized circuit and assign the parameters in-place.\n",
      " |      \n",
      " |          .. jupyter-execute::\n",
      " |      \n",
      " |              from qiskit.circuit import QuantumCircuit, Parameter\n",
      " |      \n",
      " |              circuit = QuantumCircuit(2)\n",
      " |              params = [Parameter('A'), Parameter('B'), Parameter('C')]\n",
      " |              circuit.ry(params[0], 0)\n",
      " |              circuit.crx(params[1], 0, 1)\n",
      " |      \n",
      " |              print('Original circuit:')\n",
      " |              print(circuit.draw())\n",
      " |      \n",
      " |              circuit.assign_parameters({params[0]: params[2]}, inplace=True)\n",
      " |      \n",
      " |              print('Assigned in-place:')\n",
      " |              print(circuit.draw())\n",
      " |      \n",
      " |          Bind the values out-of-place and get a copy of the original circuit.\n",
      " |      \n",
      " |          .. jupyter-execute::\n",
      " |      \n",
      " |              from qiskit.circuit import QuantumCircuit, ParameterVector\n",
      " |      \n",
      " |              circuit = QuantumCircuit(2)\n",
      " |              params = ParameterVector('P', 2)\n",
      " |              circuit.ry(params[0], 0)\n",
      " |              circuit.crx(params[1], 0, 1)\n",
      " |      \n",
      " |              bound_circuit = circuit.assign_parameters({params[0]: 1, params[1]: 2})\n",
      " |              print('Bound circuit:')\n",
      " |              print(bound_circuit.draw())\n",
      " |      \n",
      " |              print('The original circuit is unchanged:')\n",
      " |              print(circuit.draw())\n",
      " |  \n",
      " |  barrier(self, *qargs)\n",
      " |      Apply :class:`~qiskit.circuit.Barrier`. If qargs is None, applies to all.\n",
      " |  \n",
      " |  bind_parameters(self, values, value_dict=None)\n",
      " |      Assign numeric parameters to values yielding a new circuit.\n",
      " |      \n",
      " |      To assign new Parameter objects or bind the values in-place, without yielding a new\n",
      " |      circuit, use the :meth:`assign_parameters` method.\n",
      " |      \n",
      " |      Args:\n",
      " |          values (dict or iterable): {parameter: value, ...} or [value1, value2, ...]\n",
      " |          value_dict (dict): Deprecated, use ``values`` instead.\n",
      " |      \n",
      " |      Raises:\n",
      " |          CircuitError: If values is a dict and contains parameters not present in the circuit.\n",
      " |          TypeError: If values contains a ParameterExpression.\n",
      " |      \n",
      " |      Returns:\n",
      " |          QuantumCircuit: copy of self with assignment substitution.\n",
      " |  \n",
      " |  cbit_argument_conversion(self, clbit_representation)\n",
      " |      Converts several classical bit representations (such as indexes, range, etc.)\n",
      " |      into a list of classical bits.\n",
      " |      \n",
      " |      Args:\n",
      " |          clbit_representation (Object): representation to expand\n",
      " |      \n",
      " |      Returns:\n",
      " |          List(tuple): Where each tuple is a classical bit.\n",
      " |  \n",
      " |  ccx(self, control_qubit1, control_qubit2, target_qubit, ctrl_state=None)\n",
      " |      Apply :class:`~qiskit.circuit.library.CCXGate`.\n",
      " |  \n",
      " |  ch(self, control_qubit, target_qubit, label=None, ctrl_state=None)\n",
      " |      Apply :class:`~qiskit.circuit.library.CHGate`.\n",
      " |  \n",
      " |  cnot(self, control_qubit, target_qubit, label=None, ctrl_state=None)\n",
      " |      Apply :class:`~qiskit.circuit.library.CXGate`.\n",
      " |  \n",
      " |  combine(self, rhs)\n",
      " |      DEPRECATED - Returns rhs appended to self if self contains compatible registers.\n",
      " |      \n",
      " |      Two circuits are compatible if they contain the same registers\n",
      " |      or if they contain different registers with unique names. The\n",
      " |      returned circuit will contain all unique registers between both\n",
      " |      circuits.\n",
      " |      \n",
      " |      Return self + rhs as a new object.\n",
      " |      \n",
      " |      Args:\n",
      " |          rhs (QuantumCircuit): The quantum circuit to append to the right hand side.\n",
      " |      \n",
      " |      Returns:\n",
      " |          QuantumCircuit: Returns a new QuantumCircuit object\n",
      " |      \n",
      " |      Raises:\n",
      " |          QiskitError: if the rhs circuit is not compatible\n",
      " |  \n",
      " |  compose(self, other, qubits=None, clbits=None, front=False, inplace=False, wrap=False)\n",
      " |      Compose circuit with ``other`` circuit or instruction, optionally permuting wires.\n",
      " |      \n",
      " |      ``other`` can be narrower or of equal width to ``self``.\n",
      " |      \n",
      " |      Args:\n",
      " |          other (qiskit.circuit.Instruction or QuantumCircuit or BaseOperator):\n",
      " |              (sub)circuit to compose onto self.\n",
      " |          qubits (list[Qubit|int]): qubits of self to compose onto.\n",
      " |          clbits (list[Clbit|int]): clbits of self to compose onto.\n",
      " |          front (bool): If True, front composition will be performed (not implemented yet).\n",
      " |          inplace (bool): If True, modify the object. Otherwise return composed circuit.\n",
      " |          wrap (bool): If True, wraps the other circuit into a gate (or instruction, depending on\n",
      " |              whether it contains only unitary instructions) before composing it onto self.\n",
      " |      \n",
      " |      Returns:\n",
      " |          QuantumCircuit: the composed circuit (returns None if inplace==True).\n",
      " |      \n",
      " |      Raises:\n",
      " |          CircuitError: if composing on the front.\n",
      " |          QiskitError: if ``other`` is wider or there are duplicate edge mappings.\n",
      " |      \n",
      " |      Examples::\n",
      " |      \n",
      " |          lhs.compose(rhs, qubits=[3, 2], inplace=True)\n",
      " |      \n",
      " |          .. parsed-literal::\n",
      " |      \n",
      " |                          ┌───┐                   ┌─────┐                ┌───┐\n",
      " |              lqr_1_0: ───┤ H ├───    rqr_0: ──■──┤ Tdg ├    lqr_1_0: ───┤ H ├───────────────\n",
      " |                          ├───┤              ┌─┴─┐└─────┘                ├───┤\n",
      " |              lqr_1_1: ───┤ X ├───    rqr_1: ┤ X ├───────    lqr_1_1: ───┤ X ├───────────────\n",
      " |                       ┌──┴───┴──┐           └───┘                    ┌──┴───┴──┐┌───┐\n",
      " |              lqr_1_2: ┤ U1(0.1) ├  +                     =  lqr_1_2: ┤ U1(0.1) ├┤ X ├───────\n",
      " |                       └─────────┘                                    └─────────┘└─┬─┘┌─────┐\n",
      " |              lqr_2_0: ─────■─────                           lqr_2_0: ─────■───────■──┤ Tdg ├\n",
      " |                          ┌─┴─┐                                          ┌─┴─┐        └─────┘\n",
      " |              lqr_2_1: ───┤ X ├───                           lqr_2_1: ───┤ X ├───────────────\n",
      " |                          └───┘                                          └───┘\n",
      " |              lcr_0: 0 ═══════════                           lcr_0: 0 ═══════════════════════\n",
      " |      \n",
      " |              lcr_1: 0 ═══════════                           lcr_1: 0 ═══════════════════════\n",
      " |  \n",
      " |  control(self, num_ctrl_qubits=1, label=None, ctrl_state=None)\n",
      " |      Control this circuit on ``num_ctrl_qubits`` qubits.\n",
      " |      \n",
      " |      Args:\n",
      " |          num_ctrl_qubits (int): The number of control qubits.\n",
      " |          label (str): An optional label to give the controlled operation for visualization.\n",
      " |          ctrl_state (str or int): The control state in decimal or as a bitstring\n",
      " |              (e.g. '111'). If None, use ``2**num_ctrl_qubits - 1``.\n",
      " |      \n",
      " |      Returns:\n",
      " |          QuantumCircuit: The controlled version of this circuit.\n",
      " |      \n",
      " |      Raises:\n",
      " |          CircuitError: If the circuit contains a non-unitary operation and cannot be controlled.\n",
      " |  \n",
      " |  copy(self, name=None)\n",
      " |      Copy the circuit.\n",
      " |      \n",
      " |      Args:\n",
      " |        name (str): name to be given to the copied circuit. If None, then the name stays the same\n",
      " |      \n",
      " |      Returns:\n",
      " |        QuantumCircuit: a deepcopy of the current circuit, with the specified name\n",
      " |  \n",
      " |  count_ops(self)\n",
      " |      Count each operation kind in the circuit.\n",
      " |      \n",
      " |      Returns:\n",
      " |          OrderedDict: a breakdown of how many operations of each kind, sorted by amount.\n",
      " |  \n",
      " |  cp(self, theta, control_qubit, target_qubit, label=None, ctrl_state=None)\n",
      " |      Apply :class:`~qiskit.circuit.library.CPhaseGate`.\n",
      " |  \n",
      " |  crx(self, theta, control_qubit, target_qubit, label=None, ctrl_state=None)\n",
      " |      Apply :class:`~qiskit.circuit.library.CRXGate`.\n",
      " |  \n",
      " |  cry(self, theta, control_qubit, target_qubit, label=None, ctrl_state=None)\n",
      " |      Apply :class:`~qiskit.circuit.library.CRYGate`.\n",
      " |  \n",
      " |  crz(self, theta, control_qubit, target_qubit, label=None, ctrl_state=None)\n",
      " |      Apply :class:`~qiskit.circuit.library.CRZGate`.\n",
      " |  \n",
      " |  cswap(self, control_qubit, target_qubit1, target_qubit2, label=None, ctrl_state=None)\n",
      " |      Apply :class:`~qiskit.circuit.library.CSwapGate`.\n",
      " |  \n",
      " |  csx(self, control_qubit, target_qubit, label=None, ctrl_state=None)\n",
      " |      Apply :class:`~qiskit.circuit.library.CSXGate`.\n",
      " |  \n",
      " |  cu(self, theta, phi, lam, gamma, control_qubit, target_qubit, label=None, ctrl_state=None)\n",
      " |      Apply :class:`~qiskit.circuit.library.CUGate`.\n",
      " |  \n",
      " |  cu1(self, theta, control_qubit, target_qubit, label=None, ctrl_state=None)\n",
      " |      Apply :class:`~qiskit.circuit.library.CU1Gate`.\n",
      " |  \n",
      " |  cu3(self, theta, phi, lam, control_qubit, target_qubit, label=None, ctrl_state=None)\n",
      " |      Apply :class:`~qiskit.circuit.library.CU3Gate`.\n",
      " |  \n",
      " |  cx(self, control_qubit, target_qubit, label=None, ctrl_state=None)\n",
      " |      Apply :class:`~qiskit.circuit.library.CXGate`.\n",
      " |  \n",
      " |  cy(self, control_qubit, target_qubit, label=None, ctrl_state=None)\n",
      " |      Apply :class:`~qiskit.circuit.library.CYGate`.\n",
      " |  \n",
      " |  cz(self, control_qubit, target_qubit, label=None, ctrl_state=None)\n",
      " |      Apply :class:`~qiskit.circuit.library.CZGate`.\n",
      " |  \n",
      " |  dcx(self, qubit1, qubit2)\n",
      " |      Apply :class:`~qiskit.circuit.library.DCXGate`.\n",
      " |  \n",
      " |  decompose(self)\n",
      " |      Call a decomposition pass on this circuit,\n",
      " |      to decompose one level (shallow decompose).\n",
      " |      \n",
      " |      Returns:\n",
      " |          QuantumCircuit: a circuit one level decomposed\n",
      " |  \n",
      " |  delay(self, duration, qarg=None, unit='dt')\n",
      " |      Apply :class:`~qiskit.circuit.Delay`. If qarg is None, applies to all qubits.\n",
      " |      When applying to multiple qubits, delays with the same duration will be created.\n",
      " |      \n",
      " |      Args:\n",
      " |          duration (int or float or ParameterExpression): duration of the delay.\n",
      " |          qarg (Object): qubit argument to apply this delay.\n",
      " |          unit (str): unit of the duration. Supported units: 's', 'ms', 'us', 'ns', 'ps', 'dt'.\n",
      " |              Default is ``dt``, i.e. integer time unit depending on the target backend.\n",
      " |      \n",
      " |      Returns:\n",
      " |          qiskit.Instruction: the attached delay instruction.\n",
      " |      \n",
      " |      Raises:\n",
      " |          CircuitError: if arguments have bad format.\n",
      " |  \n",
      " |  depth(self)\n",
      " |      Return circuit depth (i.e., length of critical path).\n",
      " |      This does not include compiler or simulator directives\n",
      " |      such as 'barrier' or 'snapshot'.\n",
      " |      \n",
      " |      Returns:\n",
      " |          int: Depth of circuit.\n",
      " |      \n",
      " |      Notes:\n",
      " |          The circuit depth and the DAG depth need not be the\n",
      " |          same.\n",
      " |  \n",
      " |  diagonal(self, diag, qubit)\n",
      " |      Attach a diagonal gate to a circuit.\n",
      " |      \n",
      " |      The decomposition is based on Theorem 7 given in \"Synthesis of Quantum Logic Circuits\" by\n",
      " |      Shende et al. (https://arxiv.org/pdf/quant-ph/0406176.pdf).\n",
      " |      \n",
      " |      Args:\n",
      " |          diag (list): list of the 2^k diagonal entries (for a diagonal gate on k qubits).\n",
      " |              Must contain at least two entries\n",
      " |          qubit (QuantumRegister|list): list of k qubits the diagonal is\n",
      " |              acting on (the order of the qubits specifies the computational basis in which the\n",
      " |              diagonal gate is provided: the first element in diag acts on the state where all\n",
      " |              the qubits in q are in the state 0, the second entry acts on the state where all\n",
      " |              the qubits q[1],...,q[k-1] are in the state zero and q[0] is in the state 1,\n",
      " |              and so on)\n",
      " |      \n",
      " |      Returns:\n",
      " |          QuantumCircuit: the diagonal gate which was attached to the circuit.\n",
      " |      \n",
      " |      Raises:\n",
      " |          QiskitError: if the list of the diagonal entries or the qubit list is in bad format;\n",
      " |              if the number of diagonal entries is not 2^k, where k denotes the number of qubits\n",
      " |  \n",
      " |  draw(self, output=None, scale=None, filename=None, style=None, interactive=False, plot_barriers=True, reverse_bits=False, justify=None, vertical_compression='medium', idle_wires=True, with_layout=True, fold=None, ax=None, initial_state=False, cregbundle=True)\n",
      " |      Draw the quantum circuit. Use the output parameter to choose the drawing format:\n",
      " |      \n",
      " |      **text**: ASCII art TextDrawing that can be printed in the console.\n",
      " |      \n",
      " |      **matplotlib**: images with color rendered purely in Python.\n",
      " |      \n",
      " |      **latex**: high-quality images compiled via latex.\n",
      " |      \n",
      " |      **latex_source**: raw uncompiled latex output.\n",
      " |      \n",
      " |      Args:\n",
      " |          output (str): select the output method to use for drawing the circuit.\n",
      " |              Valid choices are ``text``, ``mpl``, ``latex``, ``latex_source``.\n",
      " |              By default the `text` drawer is used unless the user config file\n",
      " |              (usually ``~/.qiskit/settings.conf``) has an alternative backend set\n",
      " |              as the default. For example, ``circuit_drawer = latex``. If the output\n",
      " |              kwarg is set, that backend will always be used over the default in\n",
      " |              the user config file.\n",
      " |          scale (float): scale of image to draw (shrink if < 1.0). Only used by\n",
      " |              the `mpl`, `latex` and `latex_source` outputs. Defaults to 1.0.\n",
      " |          filename (str): file path to save image to. Defaults to None.\n",
      " |          style (dict or str): dictionary of style or file name of style json file.\n",
      " |              This option is only used by the `mpl` or `latex` output type.\n",
      " |              If `style` is a str, it is used as the path to a json file\n",
      " |              which contains a style dict. The file will be opened, parsed, and\n",
      " |              then any style elements in the dict will replace the default values\n",
      " |              in the input dict. A file to be loaded must end in ``.json``, but\n",
      " |              the name entered here can omit ``.json``. For example,\n",
      " |              ``style='iqx.json'`` or ``style='iqx'``.\n",
      " |              If `style` is a dict and the ``'name'`` key is set, that name\n",
      " |              will be used to load a json file, followed by loading the other\n",
      " |              items in the style dict. For example, ``style={'name': 'iqx'}``.\n",
      " |              If `style` is not a str and `name` is not a key in the style dict,\n",
      " |              then the default value from the user config file (usually\n",
      " |              ``~/.qiskit/settings.conf``) will be used, for example,\n",
      " |              ``circuit_mpl_style = iqx``.\n",
      " |              If none of these are set, the `default` style will be used.\n",
      " |              The search path for style json files can be specified in the user\n",
      " |              config, for example,\n",
      " |              ``circuit_mpl_style_path = /home/user/styles:/home/user``.\n",
      " |              See: :class:`~qiskit.visualization.qcstyle.DefaultStyle` for more\n",
      " |              information on the contents.\n",
      " |          interactive (bool): when set to true, show the circuit in a new window\n",
      " |              (for `mpl` this depends on the matplotlib backend being used\n",
      " |              supporting this). Note when used with either the `text` or the\n",
      " |              `latex_source` output type this has no effect and will be silently\n",
      " |              ignored. Defaults to False.\n",
      " |          reverse_bits (bool): when set to True, reverse the bit order inside\n",
      " |              registers for the output visualization. Defaults to False.\n",
      " |          plot_barriers (bool): enable/disable drawing barriers in the output\n",
      " |              circuit. Defaults to True.\n",
      " |          justify (string): options are ``left``, ``right`` or ``none``. If\n",
      " |              anything else is supplied, it defaults to left justified. It refers\n",
      " |              to where gates should be placed in the output circuit if there is\n",
      " |              an option. ``none`` results in each gate being placed in its own\n",
      " |              column.\n",
      " |          vertical_compression (string): ``high``, ``medium`` or ``low``. It\n",
      " |              merges the lines generated by the `text` output so the drawing\n",
      " |              will take less vertical room.  Default is ``medium``. Only used by\n",
      " |              the `text` output, will be silently ignored otherwise.\n",
      " |          idle_wires (bool): include idle wires (wires with no circuit elements)\n",
      " |              in output visualization. Default is True.\n",
      " |          with_layout (bool): include layout information, with labels on the\n",
      " |              physical layout. Default is True.\n",
      " |          fold (int): sets pagination. It can be disabled using -1. In `text`,\n",
      " |              sets the length of the lines. This is useful when the drawing does\n",
      " |              not fit in the console. If None (default), it will try to guess the\n",
      " |              console width using ``shutil.get_terminal_size()``. However, if\n",
      " |              running in jupyter, the default line length is set to 80 characters.\n",
      " |              In `mpl`, it is the number of (visual) layers before folding.\n",
      " |              Default is 25.\n",
      " |          ax (matplotlib.axes.Axes): Only used by the `mpl` backend. An optional\n",
      " |              Axes object to be used for the visualization output. If none is\n",
      " |              specified, a new matplotlib Figure will be created and used.\n",
      " |              Additionally, if specified there will be no returned Figure since\n",
      " |              it is redundant.\n",
      " |          initial_state (bool): optional. Adds ``|0>`` in the beginning of the wire.\n",
      " |              Default is False.\n",
      " |          cregbundle (bool): optional. If set True, bundle classical registers.\n",
      " |              Default is True.\n",
      " |      \n",
      " |      Returns:\n",
      " |          :class:`TextDrawing` or :class:`matplotlib.figure` or :class:`PIL.Image` or\n",
      " |          :class:`str`:\n",
      " |      \n",
      " |          * `TextDrawing` (output='text')\n",
      " |              A drawing that can be printed as ascii art.\n",
      " |          * `matplotlib.figure.Figure` (output='mpl')\n",
      " |              A matplotlib figure object for the circuit diagram.\n",
      " |          * `PIL.Image` (output='latex')\n",
      " |              An in-memory representation of the image of the circuit diagram.\n",
      " |          * `str` (output='latex_source')\n",
      " |              The LaTeX source code for visualizing the circuit diagram.\n",
      " |      \n",
      " |      Raises:\n",
      " |          VisualizationError: when an invalid output method is selected\n",
      " |          ImportError: when the output methods requires non-installed libraries.\n",
      " |      \n",
      " |      Example:\n",
      " |          .. jupyter-execute::\n",
      " |      \n",
      " |              from qiskit import QuantumRegister, ClassicalRegister, QuantumCircuit\n",
      " |              from qiskit.tools.visualization import circuit_drawer\n",
      " |              q = QuantumRegister(1)\n",
      " |              c = ClassicalRegister(1)\n",
      " |              qc = QuantumCircuit(q, c)\n",
      " |              qc.h(q)\n",
      " |              qc.measure(q, c)\n",
      " |              qc.draw(output='mpl', style={'backgroundcolor': '#EEEEEE'})\n",
      " |  \n",
      " |  ecr(self, qubit1, qubit2)\n",
      " |      Apply :class:`~qiskit.circuit.library.ECRGate`.\n",
      " |  \n",
      " |  extend(self, rhs)\n",
      " |      DEPRECATED - Append QuantumCircuit to the RHS if it contains compatible registers.\n",
      " |      \n",
      " |      Two circuits are compatible if they contain the same registers\n",
      " |      or if they contain different registers with unique names. The\n",
      " |      returned circuit will contain all unique registers between both\n",
      " |      circuits.\n",
      " |      \n",
      " |      Modify and return self.\n",
      " |      \n",
      " |      Args:\n",
      " |          rhs (QuantumCircuit): The quantum circuit to append to the right hand side.\n",
      " |      \n",
      " |      Returns:\n",
      " |          QuantumCircuit: Returns this QuantumCircuit object (which has been modified)\n",
      " |      \n",
      " |      Raises:\n",
      " |          QiskitError: if the rhs circuit is not compatible\n",
      " |  \n",
      " |  fredkin(self, control_qubit, target_qubit1, target_qubit2)\n",
      " |      Apply :class:`~qiskit.circuit.library.CSwapGate`.\n",
      " |  \n",
      " |  get_instructions(self, name)\n",
      " |      Get instructions matching name.\n",
      " |      \n",
      " |      Args:\n",
      " |          name (str): The name of instruction to.\n",
      " |      \n",
      " |      Returns:\n",
      " |          list(tuple): list of (instruction, qargs, cargs).\n",
      " |  \n",
      " |  h(self, qubit)\n",
      " |      Apply :class:`~qiskit.circuit.library.HGate`.\n",
      " |  \n",
      " |  hamiltonian(self, operator, time, qubits, label=None)\n",
      " |      Apply hamiltonian evolution to qubits.\n",
      " |  \n",
      " |  has_register(self, register)\n",
      " |      Test if this circuit has the register r.\n",
      " |      \n",
      " |      Args:\n",
      " |          register (Register): a quantum or classical register.\n",
      " |      \n",
      " |      Returns:\n",
      " |          bool: True if the register is contained in this circuit.\n",
      " |  \n",
      " |  i(self, qubit)\n",
      " |      Apply :class:`~qiskit.circuit.library.IGate`.\n",
      " |  \n",
      " |  id(self, qubit)\n",
      " |      Apply :class:`~qiskit.circuit.library.IGate`.\n",
      " |  \n",
      " |  initialize(self, params, qubits=None)\n",
      " |      Initialize qubits in a specific state.\n",
      " |      \n",
      " |      Qubit initialization is done by first resetting the qubits to :math:`|0\\rangle`\n",
      " |      followed by an state preparing unitary. Both these steps are included in the\n",
      " |      `Initialize` instruction.\n",
      " |      \n",
      " |      Args:\n",
      " |          params (str or list or int):\n",
      " |              * str: labels of basis states of the Pauli eigenstates Z, X, Y. See\n",
      " |                  :meth:`~qiskit.quantum_info.states.statevector.Statevector.from_label`.\n",
      " |                  Notice the order of the labels is reversed with respect to the qubit index to\n",
      " |                  be applied to. Example label '01' initializes the qubit zero to `|1>` and the\n",
      " |                  qubit one to `|0>`.\n",
      " |              * list: vector of complex amplitudes to initialize to.\n",
      " |              * int: an integer that is used as a bitmap indicating which qubits to initialize\n",
      " |                 to `|1>`. Example: setting params to 5 would initialize qubit 0 and qubit 2\n",
      " |                 to `|1>` and qubit 1 to `|0>`.\n",
      " |          qubits (QuantumRegister or int):\n",
      " |              * QuantumRegister: A list of qubits to be initialized [Default: None].\n",
      " |              * int: Index of qubit to initialized [Default: None].\n",
      " |      \n",
      " |      Returns:\n",
      " |          qiskit.circuit.Instruction: a handle to the instruction that was just initialized\n",
      " |      \n",
      " |      Examples:\n",
      " |          Prepare a qubit in the state :math:`(|0\\rangle - |1\\rangle) / \\sqrt{2}`.\n",
      " |      \n",
      " |          .. jupyter-execute::\n",
      " |      \n",
      " |              import numpy as np\n",
      " |              from qiskit import QuantumCircuit\n",
      " |      \n",
      " |              circuit = QuantumCircuit(1)\n",
      " |              circuit.initialize([1/np.sqrt(2), -1/np.sqrt(2)], 0)\n",
      " |              circuit.draw()\n",
      " |      \n",
      " |          output:\n",
      " |               ┌──────────────────────────────┐\n",
      " |          q_0: ┤ initialize(0.70711,-0.70711) ├\n",
      " |               └──────────────────────────────┘\n",
      " |      \n",
      " |      \n",
      " |          Initialize from a string two qubits in the state `|10>`.\n",
      " |          The order of the labels is reversed with respect to qubit index.\n",
      " |          More information about labels for basis states are in\n",
      " |          :meth:`~qiskit.quantum_info.states.statevector.Statevector.from_label`.\n",
      " |      \n",
      " |          .. jupyter-execute::\n",
      " |      \n",
      " |              import numpy as np\n",
      " |              from qiskit import QuantumCircuit\n",
      " |      \n",
      " |              circuit = QuantumCircuit(2)\n",
      " |              circuit.initialize('01', circuit.qubits)\n",
      " |              circuit.draw()\n",
      " |      \n",
      " |          output:\n",
      " |               ┌──────────────────┐\n",
      " |          q_0: ┤0                 ├\n",
      " |               │  initialize(0,1) │\n",
      " |          q_1: ┤1                 ├\n",
      " |               └──────────────────┘\n",
      " |      \n",
      " |      \n",
      " |          Initialize two qubits from an array of complex amplitudes\n",
      " |          .. jupyter-execute::\n",
      " |      \n",
      " |              import numpy as np\n",
      " |              from qiskit import QuantumCircuit\n",
      " |      \n",
      " |              circuit = QuantumCircuit(2)\n",
      " |              circuit.initialize([0, 1/np.sqrt(2), -1.j/np.sqrt(2), 0], circuit.qubits)\n",
      " |              circuit.draw()\n",
      " |      \n",
      " |          output:\n",
      " |               ┌────────────────────────────────────┐\n",
      " |          q_0: ┤0                                   ├\n",
      " |               │  initialize(0,0.70711,-0.70711j,0) │\n",
      " |          q_1: ┤1                                   ├\n",
      " |               └────────────────────────────────────┘\n",
      " |  \n",
      " |  inverse(self)\n",
      " |      Invert (take adjoint of) this circuit.\n",
      " |      \n",
      " |      This is done by recursively inverting all gates.\n",
      " |      \n",
      " |      Returns:\n",
      " |          QuantumCircuit: the inverted circuit\n",
      " |      \n",
      " |      Raises:\n",
      " |          CircuitError: if the circuit cannot be inverted.\n",
      " |      \n",
      " |      Examples:\n",
      " |      \n",
      " |          input:\n",
      " |               ┌───┐\n",
      " |          q_0: ┤ H ├─────■──────\n",
      " |               └───┘┌────┴─────┐\n",
      " |          q_1: ─────┤ RX(1.57) ├\n",
      " |                    └──────────┘\n",
      " |      \n",
      " |          output:\n",
      " |                            ┌───┐\n",
      " |          q_0: ──────■──────┤ H ├\n",
      " |               ┌─────┴─────┐└───┘\n",
      " |          q_1: ┤ RX(-1.57) ├─────\n",
      " |               └───────────┘\n",
      " |  \n",
      " |  iso(self, isometry, q_input, q_ancillas_for_output, q_ancillas_zero=None, q_ancillas_dirty=None, epsilon=1e-10)\n",
      " |      Attach an arbitrary isometry from m to n qubits to a circuit. In particular,\n",
      " |      this allows to attach arbitrary unitaries on n qubits (m=n) or to prepare any state\n",
      " |      on n qubits (m=0).\n",
      " |      The decomposition used here was introduced by Iten et al. in https://arxiv.org/abs/1501.06911.\n",
      " |      \n",
      " |      Args:\n",
      " |          isometry (ndarray): an isometry from m to n qubits, i.e., a (complex) ndarray of\n",
      " |              dimension 2^n×2^m with orthonormal columns (given in the computational basis\n",
      " |              specified by the order of the ancillas and the input qubits, where the ancillas\n",
      " |              are considered to be more significant than the input qubits.).\n",
      " |          q_input (QuantumRegister|list[Qubit]): list of m qubits where the input\n",
      " |              to the isometry is fed in (empty list for state preparation).\n",
      " |          q_ancillas_for_output (QuantumRegister|list[Qubit]): list of n-m ancilla\n",
      " |              qubits that are used for the output of the isometry and which are assumed to start\n",
      " |              in the zero state. The qubits are listed with increasing significance.\n",
      " |          q_ancillas_zero (QuantumRegister|list[Qubit]): list of ancilla qubits\n",
      " |              which are assumed to start in the zero state. Default is q_ancillas_zero = None.\n",
      " |          q_ancillas_dirty (QuantumRegister|list[Qubit]): list of ancilla qubits\n",
      " |              which can start in an arbitrary state. Default is q_ancillas_dirty = None.\n",
      " |          epsilon (float): error tolerance of calculations.\n",
      " |              Default is epsilon = _EPS.\n",
      " |      \n",
      " |      Returns:\n",
      " |          QuantumCircuit: the isometry is attached to the quantum circuit.\n",
      " |      \n",
      " |      Raises:\n",
      " |          QiskitError: if the array is not an isometry of the correct size corresponding to\n",
      " |              the provided number of qubits.\n",
      " |  \n",
      " |  isometry = iso(self, isometry, q_input, q_ancillas_for_output, q_ancillas_zero=None, q_ancillas_dirty=None, epsilon=1e-10)\n",
      " |  \n",
      " |  iswap(self, qubit1, qubit2)\n",
      " |      Apply :class:`~qiskit.circuit.library.iSwapGate`.\n",
      " |  \n",
      " |  mcp(self, lam, control_qubits, target_qubit)\n",
      " |      Apply :class:`~qiskit.circuit.library.MCPhaseGate`.\n",
      " |  \n",
      " |  mcrx(self, theta, q_controls, q_target, use_basis_gates=False)\n",
      " |      Apply Multiple-Controlled X rotation gate\n",
      " |      \n",
      " |      Args:\n",
      " |          self (QuantumCircuit): The QuantumCircuit object to apply the mcrx gate on.\n",
      " |          theta (float): angle theta\n",
      " |          q_controls (list(Qubit)): The list of control qubits\n",
      " |          q_target (Qubit): The target qubit\n",
      " |          use_basis_gates (bool): use p, u, cx\n",
      " |      \n",
      " |      Raises:\n",
      " |          QiskitError: parameter errors\n",
      " |  \n",
      " |  mcry(self, theta, q_controls, q_target, q_ancillae=None, mode=None, use_basis_gates=False)\n",
      " |      Apply Multiple-Controlled Y rotation gate\n",
      " |      \n",
      " |      Args:\n",
      " |          self (QuantumCircuit): The QuantumCircuit object to apply the mcry gate on.\n",
      " |          theta (float): angle theta\n",
      " |          q_controls (list(Qubit)): The list of control qubits\n",
      " |          q_target (Qubit): The target qubit\n",
      " |          q_ancillae (QuantumRegister or tuple(QuantumRegister, int)): The list of ancillary qubits.\n",
      " |          mode (string): The implementation mode to use\n",
      " |          use_basis_gates (bool): use p, u, cx\n",
      " |      \n",
      " |      Raises:\n",
      " |          QiskitError: parameter errors\n",
      " |  \n",
      " |  mcrz(self, lam, q_controls, q_target, use_basis_gates=False)\n",
      " |      Apply Multiple-Controlled Z rotation gate\n",
      " |      \n",
      " |      Args:\n",
      " |          self (QuantumCircuit): The QuantumCircuit object to apply the mcrz gate on.\n",
      " |          lam (float): angle lambda\n",
      " |          q_controls (list(Qubit)): The list of control qubits\n",
      " |          q_target (Qubit): The target qubit\n",
      " |          use_basis_gates (bool): use p, u, cx\n",
      " |      \n",
      " |      Raises:\n",
      " |          QiskitError: parameter errors\n",
      " |  \n",
      " |  mct(self, control_qubits, target_qubit, ancilla_qubits=None, mode='noancilla')\n",
      " |      Apply :class:`~qiskit.circuit.library.MCXGate`.\n",
      " |  \n",
      " |  mcu1(self, lam, control_qubits, target_qubit)\n",
      " |      Apply :class:`~qiskit.circuit.library.MCU1Gate`.\n",
      " |  \n",
      " |  mcx(self, control_qubits, target_qubit, ancilla_qubits=None, mode='noancilla')\n",
      " |      Apply :class:`~qiskit.circuit.library.MCXGate`.\n",
      " |      \n",
      " |      The multi-cX gate can be implemented using different techniques, which use different numbers\n",
      " |      of ancilla qubits and have varying circuit depth. These modes are:\n",
      " |      - 'noancilla': Requires 0 ancilla qubits.\n",
      " |      - 'recursion': Requires 1 ancilla qubit if more than 4 controls are used, otherwise 0.\n",
      " |      - 'v-chain': Requires 2 less ancillas than the number of control qubits.\n",
      " |      - 'v-chain-dirty': Same as for the clean ancillas (but the circuit will be longer).\n",
      " |  \n",
      " |  measure(self, qubit, cbit)\n",
      " |      Measure quantum bit into classical bit (tuples).\n",
      " |      \n",
      " |      Args:\n",
      " |          qubit (QuantumRegister|list|tuple): quantum register\n",
      " |          cbit (ClassicalRegister|list|tuple): classical register\n",
      " |      \n",
      " |      Returns:\n",
      " |          qiskit.Instruction: the attached measure instruction.\n",
      " |      \n",
      " |      Raises:\n",
      " |          CircuitError: if qubit is not in this circuit or bad format;\n",
      " |              if cbit is not in this circuit or not creg.\n",
      " |  \n",
      " |  measure_active(self, inplace=True)\n",
      " |      Adds measurement to all non-idle qubits. Creates a new ClassicalRegister with\n",
      " |      a size equal to the number of non-idle qubits being measured.\n",
      " |      \n",
      " |      Returns a new circuit with measurements if `inplace=False`.\n",
      " |      \n",
      " |      Args:\n",
      " |          inplace (bool): All measurements inplace or return new circuit.\n",
      " |      \n",
      " |      Returns:\n",
      " |          QuantumCircuit: Returns circuit with measurements when `inplace = False`.\n",
      " |  \n",
      " |  measure_all(self, inplace=True)\n",
      " |      Adds measurement to all qubits. Creates a new ClassicalRegister with a\n",
      " |      size equal to the number of qubits being measured.\n",
      " |      \n",
      " |      Returns a new circuit with measurements if `inplace=False`.\n",
      " |      \n",
      " |      Args:\n",
      " |          inplace (bool): All measurements inplace or return new circuit.\n",
      " |      \n",
      " |      Returns:\n",
      " |          QuantumCircuit: Returns circuit with measurements when `inplace = False`.\n",
      " |  \n",
      " |  ms(self, theta, qubits)\n",
      " |      Apply :class:`~qiskit.circuit.library.MSGate`.\n",
      " |  \n",
      " |  num_connected_components(self, unitary_only=False)\n",
      " |      How many non-entangled subcircuits can the circuit be factored to.\n",
      " |      \n",
      " |      Args:\n",
      " |          unitary_only (bool): Compute only unitary part of graph.\n",
      " |      \n",
      " |      Returns:\n",
      " |          int: Number of connected components in circuit.\n",
      " |  \n",
      " |  num_nonlocal_gates(self)\n",
      " |      Return number of non-local gates (i.e. involving 2+ qubits).\n",
      " |      \n",
      " |      Conditional nonlocal gates are also included.\n",
      " |  \n",
      " |  num_tensor_factors(self)\n",
      " |      Computes the number of tensor factors in the unitary\n",
      " |      (quantum) part of the circuit only.\n",
      " |      \n",
      " |      Notes:\n",
      " |          This is here for backwards compatibility, and will be\n",
      " |          removed in a future release of Qiskit. You should call\n",
      " |          `num_unitary_factors` instead.\n",
      " |  \n",
      " |  num_unitary_factors(self)\n",
      " |      Computes the number of tensor factors in the unitary\n",
      " |      (quantum) part of the circuit only.\n",
      " |  \n",
      " |  p(self, theta, qubit)\n",
      " |      Apply :class:`~qiskit.circuit.library.PhaseGate`.\n",
      " |  \n",
      " |  pauli(self, pauli_string, qubits)\n",
      " |      Apply :class:`~qiskit.circuit.library.PauliGate`.\n",
      " |  \n",
      " |  power(self, power, matrix_power=False)\n",
      " |      Raise this circuit to the power of ``power``.\n",
      " |      \n",
      " |      If ``power`` is a positive integer and ``matrix_power`` is ``False``, this implementation\n",
      " |      defaults to calling ``repeat``. Otherwise, if the circuit is unitary, the matrix is\n",
      " |      computed to calculate the matrix power.\n",
      " |      \n",
      " |      Args:\n",
      " |          power (int): The power to raise this circuit to.\n",
      " |          matrix_power (bool): If True, the circuit is converted to a matrix and then the\n",
      " |              matrix power is computed. If False, and ``power`` is a positive integer,\n",
      " |              the implementation defaults to ``repeat``.\n",
      " |      \n",
      " |      Raises:\n",
      " |          CircuitError: If the circuit needs to be converted to a gate but it is not unitary.\n",
      " |      \n",
      " |      Returns:\n",
      " |          QuantumCircuit: A circuit implementing this circuit raised to the power of ``power``.\n",
      " |  \n",
      " |  qasm(self, formatted=False, filename=None, encoding=None)\n",
      " |      Return OpenQASM string.\n",
      " |      \n",
      " |      Args:\n",
      " |          formatted (bool): Return formatted Qasm string.\n",
      " |          filename (str): Save Qasm to file with name 'filename'.\n",
      " |          encoding (str): Optionally specify the encoding to use for the\n",
      " |              output file if ``filename`` is specified. By default this is\n",
      " |              set to the system's default encoding (ie whatever\n",
      " |              ``locale.getpreferredencoding()`` returns) and can be set to\n",
      " |              any valid codec or alias from stdlib's\n",
      " |              `codec module <https://docs.python.org/3/library/codecs.html#standard-encodings>`__\n",
      " |      \n",
      " |      Returns:\n",
      " |          str: If formatted=False.\n",
      " |      \n",
      " |      Raises:\n",
      " |          MissingOptionalLibraryError: If pygments is not installed and ``formatted`` is\n",
      " |              ``True``.\n",
      " |          QasmError: If circuit has free parameters.\n",
      " |  \n",
      " |  qbit_argument_conversion(self, qubit_representation)\n",
      " |      Converts several qubit representations (such as indexes, range, etc.)\n",
      " |      into a list of qubits.\n",
      " |      \n",
      " |      Args:\n",
      " |          qubit_representation (Object): representation to expand\n",
      " |      \n",
      " |      Returns:\n",
      " |          List(tuple): Where each tuple is a qubit.\n",
      " |  \n",
      " |  qubit_duration(self, *qubits: Union[qiskit.circuit.quantumregister.Qubit, int]) -> float\n",
      " |      Return the duration between the start and stop time of the first and last instructions,\n",
      " |      excluding delays, over the supplied qubits. Its time unit is ``self.unit``.\n",
      " |      \n",
      " |      Args:\n",
      " |          *qubits: Qubits within ``self`` to include.\n",
      " |      \n",
      " |      Returns:\n",
      " |          Return the duration between the first start and last stop time of non-delay instructions\n",
      " |  \n",
      " |  qubit_start_time(self, *qubits: Union[qiskit.circuit.quantumregister.Qubit, int]) -> float\n",
      " |      Return the start time of the first instruction, excluding delays,\n",
      " |      over the supplied qubits. Its time unit is ``self.unit``.\n",
      " |      \n",
      " |      Return 0 if there are no instructions over qubits\n",
      " |      \n",
      " |      Args:\n",
      " |          *qubits: Qubits within ``self`` to include. Integers are allowed for qubits, indicating\n",
      " |          indices of ``self.qubits``.\n",
      " |      \n",
      " |      Returns:\n",
      " |          Return the start time of the first instruction, excluding delays, over the qubits\n",
      " |      \n",
      " |      Raises:\n",
      " |          CircuitError: if ``self`` is a not-yet scheduled circuit.\n",
      " |  \n",
      " |  qubit_stop_time(self, *qubits: Union[qiskit.circuit.quantumregister.Qubit, int]) -> float\n",
      " |      Return the stop time of the last instruction, excluding delays, over the supplied qubits.\n",
      " |      Its time unit is ``self.unit``.\n",
      " |      \n",
      " |      Return 0 if there are no instructions over qubits\n",
      " |      \n",
      " |      Args:\n",
      " |          *qubits: Qubits within ``self`` to include. Integers are allowed for qubits, indicating\n",
      " |          indices of ``self.qubits``.\n",
      " |      \n",
      " |      Returns:\n",
      " |          Return the stop time of the last instruction, excluding delays, over the qubits\n",
      " |      \n",
      " |      Raises:\n",
      " |          CircuitError: if ``self`` is a not-yet scheduled circuit.\n",
      " |  \n",
      " |  r(self, theta, phi, qubit)\n",
      " |      Apply :class:`~qiskit.circuit.library.RGate`.\n",
      " |  \n",
      " |  rcccx(self, control_qubit1, control_qubit2, control_qubit3, target_qubit)\n",
      " |      Apply :class:`~qiskit.circuit.library.RC3XGate`.\n",
      " |  \n",
      " |  rccx(self, control_qubit1, control_qubit2, target_qubit)\n",
      " |      Apply :class:`~qiskit.circuit.library.RCCXGate`.\n",
      " |  \n",
      " |  remove_final_measurements(self, inplace=True)\n",
      " |      Removes final measurement on all qubits if they are present.\n",
      " |      Deletes the ClassicalRegister that was used to store the values from these measurements\n",
      " |      if it is idle.\n",
      " |      \n",
      " |      Returns a new circuit without measurements if `inplace=False`.\n",
      " |      \n",
      " |      Args:\n",
      " |          inplace (bool): All measurements removed inplace or return new circuit.\n",
      " |      \n",
      " |      Returns:\n",
      " |          QuantumCircuit: Returns circuit with measurements removed when `inplace = False`.\n",
      " |  \n",
      " |  repeat(self, reps)\n",
      " |      Repeat this circuit ``reps`` times.\n",
      " |      \n",
      " |      Args:\n",
      " |          reps (int): How often this circuit should be repeated.\n",
      " |      \n",
      " |      Returns:\n",
      " |          QuantumCircuit: A circuit containing ``reps`` repetitions of this circuit.\n",
      " |  \n",
      " |  reset(self, qubit)\n",
      " |      Reset q.\n",
      " |  \n",
      " |  reverse_bits(self)\n",
      " |      Return a circuit with the opposite order of wires.\n",
      " |      \n",
      " |      The circuit is \"vertically\" flipped. If a circuit is\n",
      " |      defined over multiple registers, the resulting circuit will have\n",
      " |      the same registers but with their order flipped.\n",
      " |      \n",
      " |      This method is useful for converting a circuit written in little-endian\n",
      " |      convention to the big-endian equivalent, and vice versa.\n",
      " |      \n",
      " |      Returns:\n",
      " |          QuantumCircuit: the circuit with reversed bit order.\n",
      " |      \n",
      " |      Examples:\n",
      " |      \n",
      " |          input:\n",
      " |               ┌───┐\n",
      " |          q_0: ┤ H ├─────■──────\n",
      " |               └───┘┌────┴─────┐\n",
      " |          q_1: ─────┤ RX(1.57) ├\n",
      " |                    └──────────┘\n",
      " |      \n",
      " |          output:\n",
      " |                    ┌──────────┐\n",
      " |          q_0: ─────┤ RX(1.57) ├\n",
      " |               ┌───┐└────┬─────┘\n",
      " |          q_1: ┤ H ├─────■──────\n",
      " |               └───┘\n",
      " |  \n",
      " |  reverse_ops(self)\n",
      " |      Reverse the circuit by reversing the order of instructions.\n",
      " |      \n",
      " |      This is done by recursively reversing all instructions.\n",
      " |      It does not invert (adjoint) any gate.\n",
      " |      \n",
      " |      Returns:\n",
      " |          QuantumCircuit: the reversed circuit.\n",
      " |      \n",
      " |      Examples:\n",
      " |      \n",
      " |          input:\n",
      " |               ┌───┐\n",
      " |          q_0: ┤ H ├─────■──────\n",
      " |               └───┘┌────┴─────┐\n",
      " |          q_1: ─────┤ RX(1.57) ├\n",
      " |                    └──────────┘\n",
      " |      \n",
      " |          output:\n",
      " |                           ┌───┐\n",
      " |          q_0: ─────■──────┤ H ├\n",
      " |               ┌────┴─────┐└───┘\n",
      " |          q_1: ┤ RX(1.57) ├─────\n",
      " |               └──────────┘\n",
      " |  \n",
      " |  rv(self, vx, vy, vz, qubit)\n",
      " |      Apply :class:`~qiskit.circuit.library.RVGate`.\n",
      " |  \n",
      " |  rx(self, theta, qubit, label=None)\n",
      " |      Apply :class:`~qiskit.circuit.library.RXGate`.\n",
      " |  \n",
      " |  rxx(self, theta, qubit1, qubit2)\n",
      " |      Apply :class:`~qiskit.circuit.library.RXXGate`.\n",
      " |  \n",
      " |  ry(self, theta, qubit, label=None)\n",
      " |      Apply :class:`~qiskit.circuit.library.RYGate`.\n",
      " |  \n",
      " |  ryy(self, theta, qubit1, qubit2)\n",
      " |      Apply :class:`~qiskit.circuit.library.RYYGate`.\n",
      " |  \n",
      " |  rz(self, phi, qubit)\n",
      " |      Apply :class:`~qiskit.circuit.library.RZGate`.\n",
      " |  \n",
      " |  rzx(self, theta, qubit1, qubit2)\n",
      " |      Apply :class:`~qiskit.circuit.library.RZXGate`.\n",
      " |  \n",
      " |  rzz(self, theta, qubit1, qubit2)\n",
      " |      Apply :class:`~qiskit.circuit.library.RZZGate`.\n",
      " |  \n",
      " |  s(self, qubit)\n",
      " |      Apply :class:`~qiskit.circuit.library.SGate`.\n",
      " |  \n",
      " |  sdg(self, qubit)\n",
      " |      Apply :class:`~qiskit.circuit.library.SdgGate`.\n",
      " |  \n",
      " |  size(self)\n",
      " |      Returns total number of gate operations in circuit.\n",
      " |      \n",
      " |      Returns:\n",
      " |          int: Total number of gate operations.\n",
      " |  \n",
      " |  snapshot(self, label, snapshot_type='statevector', qubits=None, params=None)\n",
      " |      Take a statevector snapshot of the internal simulator representation.\n",
      " |      Works on all qubits, and prevents reordering (like barrier).\n",
      " |      \n",
      " |      For other types of snapshots use the Snapshot extension directly.\n",
      " |      \n",
      " |      Args:\n",
      " |          label (str): a snapshot label to report the result.\n",
      " |          snapshot_type (str): the type of the snapshot.\n",
      " |          qubits (list or None): the qubits to apply snapshot to [Default: None].\n",
      " |          params (list or None): the parameters for snapshot_type [Default: None].\n",
      " |      \n",
      " |      Returns:\n",
      " |          QuantumCircuit: with attached command\n",
      " |      \n",
      " |      Raises:\n",
      " |          ExtensionError: malformed command\n",
      " |  \n",
      " |  squ(self, unitary_matrix, qubit, mode='ZYZ', up_to_diagonal=False, *, u=None)\n",
      " |      Decompose an arbitrary 2*2 unitary into three rotation gates.\n",
      " |      \n",
      " |      Note that the decomposition is up to a global phase shift.\n",
      " |      (This is a well known decomposition, which can be found for example in Nielsen and Chuang's book\n",
      " |      \"Quantum computation and quantum information\".)\n",
      " |      \n",
      " |      Args:\n",
      " |          unitary_matrix (ndarray): 2*2 unitary (given as a (complex) ndarray).\n",
      " |          qubit (QuantumRegister | Qubit): The qubit which the gate is acting on.\n",
      " |          mode (string): determines the used decomposition by providing the rotation axes.\n",
      " |              The allowed modes are: \"ZYZ\" (default)\n",
      " |          up_to_diagonal (bool):  if set to True, the single-qubit unitary is decomposed up to\n",
      " |              a diagonal matrix, i.e. a unitary u' is implemented such that there exists a 2*2\n",
      " |              diagonal gate d with u = d.dot(u')\n",
      " |          u (ndarray): Deprecated, use ``unitary_matrix`` instead.\n",
      " |      \n",
      " |      Returns:\n",
      " |          InstructionSet: The single-qubit unitary instruction attached to the circuit.\n",
      " |      \n",
      " |      Raises:\n",
      " |          QiskitError: if the format is wrong; if the array u is not unitary\n",
      " |  \n",
      " |  swap(self, qubit1, qubit2)\n",
      " |      Apply :class:`~qiskit.circuit.library.SwapGate`.\n",
      " |  \n",
      " |  sx(self, qubit)\n",
      " |      Apply :class:`~qiskit.circuit.library.SXGate`.\n",
      " |  \n",
      " |  sxdg(self, qubit)\n",
      " |      Apply :class:`~qiskit.circuit.library.SXdgGate`.\n",
      " |  \n",
      " |  t(self, qubit)\n",
      " |      Apply :class:`~qiskit.circuit.library.TGate`.\n",
      " |  \n",
      " |  tdg(self, qubit)\n",
      " |      Apply :class:`~qiskit.circuit.library.TdgGate`.\n",
      " |  \n",
      " |  tensor(self, other, inplace=False)\n",
      " |      Tensor ``self`` with ``other``.\n",
      " |      \n",
      " |      Remember that in the little-endian convention the leftmost operation will be at the bottom\n",
      " |      of the circuit. See also\n",
      " |      [the docs](qiskit.org/documentation/tutorials/circuits/3_summary_of_quantum_operations.html)\n",
      " |      for more information.\n",
      " |      \n",
      " |      .. parsed-literal::\n",
      " |      \n",
      " |               ┌────────┐        ┌─────┐          ┌─────┐\n",
      " |          q_0: ┤ bottom ├ ⊗ q_0: ┤ top ├  = q_0: ─┤ top ├──\n",
      " |               └────────┘        └─────┘         ┌┴─────┴─┐\n",
      " |                                            q_1: ┤ bottom ├\n",
      " |                                                 └────────┘\n",
      " |      \n",
      " |      Args:\n",
      " |          other (QuantumCircuit): The other circuit to tensor this circuit with.\n",
      " |          inplace (bool): If True, modify the object. Otherwise return composed circuit.\n",
      " |      \n",
      " |      Examples:\n",
      " |      \n",
      " |          .. jupyter-execute::\n",
      " |      \n",
      " |              from qiskit import QuantumCircuit\n",
      " |              top = QuantumCircuit(1)\n",
      " |              top.x(0);\n",
      " |              bottom = QuantumCircuit(2)\n",
      " |              bottom.cry(0.2, 0, 1);\n",
      " |              tensored = bottom.tensor(top)\n",
      " |              print(tensored.draw())\n",
      " |      \n",
      " |      Returns:\n",
      " |          QuantumCircuit: The tensored circuit (returns None if inplace==True).\n",
      " |  \n",
      " |  to_gate(self, parameter_map=None, label=None)\n",
      " |      Create a Gate out of this circuit.\n",
      " |      \n",
      " |      Args:\n",
      " |          parameter_map(dict): For parameterized circuits, a mapping from\n",
      " |             parameters in the circuit to parameters to be used in the\n",
      " |             gate. If None, existing circuit parameters will also\n",
      " |             parameterize the gate.\n",
      " |          label (str): Optional gate label.\n",
      " |      \n",
      " |      Returns:\n",
      " |          Gate: a composite gate encapsulating this circuit\n",
      " |          (can be decomposed back)\n",
      " |  \n",
      " |  to_instruction(self, parameter_map=None, label=None)\n",
      " |      Create an Instruction out of this circuit.\n",
      " |      \n",
      " |      Args:\n",
      " |          parameter_map(dict): For parameterized circuits, a mapping from\n",
      " |             parameters in the circuit to parameters to be used in the\n",
      " |             instruction. If None, existing circuit parameters will also\n",
      " |             parameterize the instruction.\n",
      " |          label (str): Optional gate label.\n",
      " |      \n",
      " |      Returns:\n",
      " |          qiskit.circuit.Instruction: a composite instruction encapsulating this circuit\n",
      " |          (can be decomposed back)\n",
      " |  \n",
      " |  toffoli(self, control_qubit1, control_qubit2, target_qubit)\n",
      " |      Apply :class:`~qiskit.circuit.library.CCXGate`.\n",
      " |  \n",
      " |  u(self, theta, phi, lam, qubit)\n",
      " |      Apply :class:`~qiskit.circuit.library.UGate`.\n",
      " |  \n",
      " |  u1(self, theta, qubit)\n",
      " |      Apply :class:`~qiskit.circuit.library.U1Gate`.\n",
      " |  \n",
      " |  u2(self, phi, lam, qubit)\n",
      " |      Apply :class:`~qiskit.circuit.library.U2Gate`.\n",
      " |  \n",
      " |  u3(self, theta, phi, lam, qubit)\n",
      " |      Apply :class:`~qiskit.circuit.library.U3Gate`.\n",
      " |  \n",
      " |  uc(self, gate_list, q_controls, q_target, up_to_diagonal=False)\n",
      " |      Attach a uniformly controlled gates (also called multiplexed gates) to a circuit.\n",
      " |      \n",
      " |      The decomposition was introduced by Bergholm et al. in\n",
      " |      https://arxiv.org/pdf/quant-ph/0410066.pdf.\n",
      " |      \n",
      " |      Args:\n",
      " |          gate_list (list[ndarray]): list of two qubit unitaries [U_0,...,U_{2^k-1}],\n",
      " |              where each single-qubit unitary U_i is a given as a 2*2 array\n",
      " |          q_controls (QuantumRegister|list[(QuantumRegister,int)]): list of k control qubits.\n",
      " |              The qubits are ordered according to their significance in the computational basis.\n",
      " |              For example if q_controls=[q[1],q[2]] (with q = QuantumRegister(2)),\n",
      " |              the unitary U_0 is performed if q[1] and q[2] are in the state zero, U_1 is\n",
      " |              performed if q[2] is in the state zero and q[1] is in the state one, and so on\n",
      " |          q_target (QuantumRegister|(QuantumRegister,int)):  target qubit, where we act on with\n",
      " |              the single-qubit gates.\n",
      " |          up_to_diagonal (bool): If set to True, the uniformly controlled gate is decomposed up\n",
      " |              to a diagonal gate, i.e. a unitary u' is implemented such that there exists a\n",
      " |              diagonal gate d with u = d.dot(u'), where the unitary u describes the uniformly\n",
      " |              controlled gate\n",
      " |      \n",
      " |      Returns:\n",
      " |          QuantumCircuit: the uniformly controlled gate is attached to the circuit.\n",
      " |      \n",
      " |      Raises:\n",
      " |          QiskitError: if the list number of control qubits does not correspond to the provided\n",
      " |              number of single-qubit unitaries; if an input is of the wrong type\n",
      " |  \n",
      " |  ucrx(self, angle_list, q_controls, q_target)\n",
      " |      Attach a uniformly controlled (also called multiplexed) Rx rotation gate to a circuit.\n",
      " |      \n",
      " |      The decomposition is base on https://arxiv.org/pdf/quant-ph/0406176.pdf by Shende et al.\n",
      " |      \n",
      " |      Args:\n",
      " |          angle_list (list): list of (real) rotation angles :math:`[a_0,...,a_{2^k-1}]`\n",
      " |          q_controls (QuantumRegister|list): list of k control qubits\n",
      " |              (or empty list if no controls). The control qubits are ordered according to their\n",
      " |              significance in increasing order: For example if ``q_controls=[q[0],q[1]]``\n",
      " |              (with ``q = QuantumRegister(2)``), the rotation ``Rx(a_0)`` is performed if ``q[0]``\n",
      " |              and ``q[1]`` are in the state zero, the rotation ``Rx(a_1)`` is performed if ``q[0]``\n",
      " |              is in the state one and ``q[1]`` is in the state zero, and so on\n",
      " |          q_target (QuantumRegister|Qubit): target qubit, where we act on with\n",
      " |              the single-qubit rotation gates\n",
      " |      \n",
      " |      Returns:\n",
      " |          QuantumCircuit: the uniformly controlled rotation gate is attached to the circuit.\n",
      " |      \n",
      " |      Raises:\n",
      " |          QiskitError: if the list number of control qubits does not correspond to the provided\n",
      " |              number of single-qubit unitaries; if an input is of the wrong type\n",
      " |  \n",
      " |  ucry(self, angle_list, q_controls, q_target)\n",
      " |      Attach a uniformly controlled (also called multiplexed) Ry rotation gate to a circuit.\n",
      " |      \n",
      " |      The decomposition is base on https://arxiv.org/pdf/quant-ph/0406176.pdf by Shende et al.\n",
      " |      \n",
      " |      Args:\n",
      " |          angle_list (list[numbers): list of (real) rotation angles :math:`[a_0,...,a_{2^k-1}]`\n",
      " |          q_controls (QuantumRegister|list[Qubit]): list of k control qubits\n",
      " |              (or empty list if no controls). The control qubits are ordered according to their\n",
      " |              significance in increasing order: For example if ``q_controls=[q[0],q[1]]``\n",
      " |              (with ``q = QuantumRegister(2)``), the rotation ``Ry(a_0)`` is performed if ``q[0]``\n",
      " |              and ``q[1]`` are in the state zero, the rotation ``Ry(a_1)`` is performed if ``q[0]``\n",
      " |              is in the state one and ``q[1]`` is in the state zero, and so on\n",
      " |          q_target (QuantumRegister|Qubit): target qubit, where we act on with\n",
      " |              the single-qubit rotation gates\n",
      " |      \n",
      " |      Returns:\n",
      " |          QuantumCircuit: the uniformly controlled rotation gate is attached to the circuit.\n",
      " |      \n",
      " |      Raises:\n",
      " |          QiskitError: if the list number of control qubits does not correspond to the provided\n",
      " |              number of single-qubit unitaries; if an input is of the wrong type\n",
      " |  \n",
      " |  ucrz(self, angle_list, q_controls, q_target)\n",
      " |      Attach a uniformly controlled (also called multiplexed gates) Rz rotation gate to a circuit.\n",
      " |      \n",
      " |      The decomposition is base on https://arxiv.org/pdf/quant-ph/0406176.pdf by Shende et al.\n",
      " |      \n",
      " |      Args:\n",
      " |          angle_list (list[numbers): list of (real) rotation angles [a_0,...,a_{2^k-1}]\n",
      " |          q_controls (QuantumRegister|list[Qubit]): list of k control qubits\n",
      " |              (or empty list if no controls). The control qubits are ordered according to their\n",
      " |              significance in increasing order: For example if q_controls=[q[1],q[2]]\n",
      " |              (with q = QuantumRegister(2)), the rotation Rz(a_0)is performed if q[1] and q[2]\n",
      " |              are in the state zero, the rotation  Rz(a_1) is performed if q[1] is in\n",
      " |              the state one and q[2] is in the state zero, and so on\n",
      " |          q_target (QuantumRegister|Qubit): target qubit, where we act on with\n",
      " |              the single-qubit rotation gates\n",
      " |      \n",
      " |      Returns:\n",
      " |          QuantumCircuit: the uniformly controlled rotation gate is attached to the circuit.\n",
      " |      \n",
      " |      Raises:\n",
      " |          QiskitError: if the list number of control qubits does not correspond to\n",
      " |              the provided number of single-qubit unitaries; if an input is of\n",
      " |              the wrong type\n",
      " |  \n",
      " |  unitary(self, obj, qubits, label=None)\n",
      " |      Apply unitary gate to q.\n",
      " |  \n",
      " |  width(self)\n",
      " |      Return number of qubits plus clbits in circuit.\n",
      " |      \n",
      " |      Returns:\n",
      " |          int: Width of circuit.\n",
      " |  \n",
      " |  x(self, qubit, label=None)\n",
      " |      Apply :class:`~qiskit.circuit.library.XGate`.\n",
      " |  \n",
      " |  y(self, qubit)\n",
      " |      Apply :class:`~qiskit.circuit.library.YGate`.\n",
      " |  \n",
      " |  z(self, qubit)\n",
      " |      Apply :class:`~qiskit.circuit.library.ZGate`.\n",
      " |  \n",
      " |  ----------------------------------------------------------------------\n",
      " |  Class methods defined here:\n",
      " |  \n",
      " |  cls_instances() from builtins.type\n",
      " |      Return the current number of instances of this class,\n",
      " |      useful for auto naming.\n",
      " |  \n",
      " |  cls_prefix() from builtins.type\n",
      " |      Return the prefix to use for auto naming.\n",
      " |  \n",
      " |  ----------------------------------------------------------------------\n",
      " |  Static methods defined here:\n",
      " |  \n",
      " |  cast(value, _type)\n",
      " |      Best effort to cast value to type. Otherwise, returns the value.\n",
      " |  \n",
      " |  from_qasm_file(path)\n",
      " |      Take in a QASM file and generate a QuantumCircuit object.\n",
      " |      \n",
      " |      Args:\n",
      " |        path (str): Path to the file for a QASM program\n",
      " |      Return:\n",
      " |        QuantumCircuit: The QuantumCircuit object for the input QASM\n",
      " |  \n",
      " |  from_qasm_str(qasm_str)\n",
      " |      Take in a QASM string and generate a QuantumCircuit object.\n",
      " |      \n",
      " |      Args:\n",
      " |        qasm_str (str): A QASM program string\n",
      " |      Return:\n",
      " |        QuantumCircuit: The QuantumCircuit object for the input QASM\n",
      " |  \n",
      " |  ----------------------------------------------------------------------\n",
      " |  Readonly properties defined here:\n",
      " |  \n",
      " |  ancillas\n",
      " |      Returns a list of ancilla bits in the order that the registers were added.\n",
      " |  \n",
      " |  clbits\n",
      " |      Returns a list of classical bits in the order that the registers were added.\n",
      " |  \n",
      " |  num_ancillas\n",
      " |      Return the number of ancilla qubits.\n",
      " |  \n",
      " |  num_clbits\n",
      " |      Return number of classical bits.\n",
      " |  \n",
      " |  num_parameters\n",
      " |      Convenience function to get the number of parameter objects in the circuit.\n",
      " |  \n",
      " |  num_qubits\n",
      " |      Return number of qubits.\n",
      " |  \n",
      " |  parameters\n",
      " |      Convenience function to get the parameters defined in the parameter table.\n",
      " |  \n",
      " |  qubits\n",
      " |      Returns a list of quantum bits in the order that the registers were added.\n",
      " |  \n",
      " |  ----------------------------------------------------------------------\n",
      " |  Data descriptors defined here:\n",
      " |  \n",
      " |  __dict__\n",
      " |      dictionary for instance variables (if defined)\n",
      " |  \n",
      " |  __weakref__\n",
      " |      list of weak references to the object (if defined)\n",
      " |  \n",
      " |  calibrations\n",
      " |      Return calibration dictionary.\n",
      " |      \n",
      " |      The custom pulse definition of a given gate is of the form\n",
      " |          {'gate_name': {(qubits, params): schedule}}\n",
      " |  \n",
      " |  data\n",
      " |      Return the circuit data (instructions and context).\n",
      " |      \n",
      " |      Returns:\n",
      " |          QuantumCircuitData: a list-like object containing the tuples for the circuit's data.\n",
      " |      \n",
      " |          Each tuple is in the format ``(instruction, qargs, cargs)``, where instruction is an\n",
      " |          Instruction (or subclass) object, qargs is a list of Qubit objects, and cargs is a\n",
      " |          list of Clbit objects.\n",
      " |  \n",
      " |  global_phase\n",
      " |      Return the global phase of the circuit in radians.\n",
      " |  \n",
      " |  metadata\n",
      " |      The user provided metadata associated with the circuit\n",
      " |      \n",
      " |      The metadata for the circuit is a user provided ``dict`` of metadata\n",
      " |      for the circuit. It will not be used to influence the execution or\n",
      " |      operation of the circuit, but it is expected to be passed between\n",
      " |      all transforms of the circuit (ie transpilation) and that providers will\n",
      " |      associate any circuit metadata with the results it returns from\n",
      " |      execution of that circuit.\n",
      " |  \n",
      " |  ----------------------------------------------------------------------\n",
      " |  Data and other attributes defined here:\n",
      " |  \n",
      " |  __hash__ = None\n",
      " |  \n",
      " |  extension_lib = 'include \"qelib1.inc\";'\n",
      " |  \n",
      " |  header = 'OPENQASM 2.0;'\n",
      " |  \n",
      " |  instances = 1\n",
      " |  \n",
      " |  prefix = 'circuit'\n",
      "\n"
     ]
    }
   ],
   "source": [
    "# Qué argumentos tiene la función que nos crea un circuito?\n",
    "help(QuantumCircuit) "
   ]
  },
  {
   "cell_type": "markdown",
   "metadata": {},
   "source": [
    "#### Circuitos básicos"
   ]
  },
  {
   "cell_type": "code",
   "execution_count": 9,
   "metadata": {},
   "outputs": [
    {
     "data": {
      "text/plain": [
       "<qiskit.circuit.quantumcircuit.QuantumCircuit at 0x7f99df4d3b50>"
      ]
     },
     "execution_count": 9,
     "metadata": {},
     "output_type": "execute_result"
    }
   ],
   "source": [
    "qc = QuantumCircuit(1) # Creamos un circuito de un qubit\n",
    "qc"
   ]
  },
  {
   "cell_type": "code",
   "execution_count": 4,
   "metadata": {},
   "outputs": [
    {
     "data": {
      "image/png": "[encoded data removed]",
      "text/plain": [
       "<Figure size 103.426x84.28 with 1 Axes>"
      ]
     },
     "execution_count": 4,
     "metadata": {},
     "output_type": "execute_result"
    }
   ],
   "source": [
    "qc.draw('mpl') # Pintamos el circuito. Una linea indica un canal cuántico"
   ]
  },
  {
   "cell_type": "markdown",
   "metadata": {},
   "source": [
    "#### Inicializar estados"
   ]
  },
  {
   "cell_type": "code",
   "execution_count": 10,
   "metadata": {},
   "outputs": [
    {
     "data": {
      "text/html": [
       "<pre style=\"word-wrap: normal;white-space: pre;background: #fff0;line-height: 1.1;font-family: &quot;Courier New&quot;,Courier,monospace\">     ┌─────────────────┐\n",
       "q_0: ┤ Initialize(0,1) ├\n",
       "     └─────────────────┘</pre>"
      ],
      "text/plain": [
       "     ┌─────────────────┐\n",
       "q_0: ┤ Initialize(0,1) ├\n",
       "     └─────────────────┘"
      ]
     },
     "execution_count": 10,
     "metadata": {},
     "output_type": "execute_result"
    }
   ],
   "source": [
    "Estado_inicial = [0,1] # |1>\n",
    "qc.initialize(Estado_inicial,0)\n",
    "qc.draw()"
   ]
  },
  {
   "cell_type": "code",
   "execution_count": 11,
   "metadata": {},
   "outputs": [
    {
     "data": {
      "image/png": "[encoded data removed]",
      "text/plain": [
       "<Figure size 133.526x84.28 with 1 Axes>"
      ]
     },
     "execution_count": 11,
     "metadata": {},
     "output_type": "execute_result"
    }
   ],
   "source": [
    "qc.draw('mpl')"
   ]
  },
  {
   "cell_type": "code",
   "execution_count": 12,
   "metadata": {},
   "outputs": [
    {
     "data": {
      "image/png": "[encoded data removed]",
      "text/plain": [
       "<Figure size 133.526x84.28 with 1 Axes>"
      ]
     },
     "execution_count": 12,
     "metadata": {},
     "output_type": "execute_result"
    }
   ],
   "source": [
    "# Una forma equivalente de haber hecho lo de arriba es \n",
    "qc = QuantumCircuit(1)\n",
    "qc.x(0)\n",
    "qc.draw('mpl')"
   ]
  },
  {
   "cell_type": "code",
   "execution_count": 13,
   "metadata": {},
   "outputs": [
    {
     "data": {
      "image/png": "[encoded data removed]",
      "text/plain": [
       "<Figure size 434.526x84.28 with 1 Axes>"
      ]
     },
     "execution_count": 13,
     "metadata": {},
     "output_type": "execute_result"
    }
   ],
   "source": [
    "# Otras compuertas \n",
    "qc = QuantumCircuit(1)\n",
    "qc.x(0)\n",
    "qc.h(0)\n",
    "qc.s(0) # No explicar\n",
    "qc.barrier()\n",
    "qc.t(0) # No explicar\n",
    "qc.u(np.pi,np.pi,np.pi,0)\n",
    "qc.draw('mpl')"
   ]
  },
  {
   "cell_type": "code",
   "execution_count": 15,
   "metadata": {},
   "outputs": [
    {
     "data": {
      "image/png": "[encoded data removed]",
      "text/plain": [
       "<Figure size 297.479x144.48 with 1 Axes>"
      ]
     },
     "execution_count": 15,
     "metadata": {},
     "output_type": "execute_result"
    }
   ],
   "source": [
    "# Mediciones \n",
    "qc = QuantumCircuit(1)\n",
    "qc.u(np.pi/2,0,np.pi,0)\n",
    "qc.measure_all() # Doble línea indica un canal clásico\n",
    "qc.draw('mpl')"
   ]
  },
  {
   "cell_type": "markdown",
   "metadata": {},
   "source": [
    "**Por un premio: Cuál es la forma matricial de T?**\n",
    "1. $$T =? \\begin{bmatrix} 1 & 0 \\\\ 0 & i  \\end{bmatrix}$$\n",
    "2. $$T =? \\begin{bmatrix} 1 & 0 \\\\ 0 & -i  \\end{bmatrix}$$\n",
    "3. $$T =? \\begin{bmatrix} 1 & 0 \\\\ 0 & \\frac{1+i}{\\sqrt{2}}  \\end{bmatrix}$$\n",
    "4. $$T =? \\begin{bmatrix} 1 & 0 \\\\ 0 & \\frac{1-i}{\\sqrt{2}}  \\end{bmatrix}$$"
   ]
  }
 ],
 "metadata": {
  "kernelspec": {
   "display_name": "Python 3",
   "language": "python",
   "name": "python3"
  },
  "language_info": {
   "codemirror_mode": {
    "name": "ipython",
    "version": 3
   },
   "file_extension": ".py",
   "mimetype": "text/x-python",
   "name": "python",
   "nbconvert_exporter": "python",
   "pygments_lexer": "ipython3",
   "version": "3.8.5"
  }
 },
 "nbformat": 4,
 "nbformat_minor": 4
}
